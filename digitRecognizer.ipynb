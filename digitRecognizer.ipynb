{
  "nbformat": 4,
  "nbformat_minor": 0,
  "metadata": {
    "colab": {
      "provenance": [],
      "gpuType": "T4",
      "authorship_tag": "ABX9TyPHHYjW508BWdNoEiZ88DVg",
      "include_colab_link": true
    },
    "kernelspec": {
      "name": "python3",
      "display_name": "Python 3"
    },
    "language_info": {
      "name": "python"
    },
    "accelerator": "GPU"
  },
  "cells": [
    {
      "cell_type": "markdown",
      "metadata": {
        "id": "view-in-github",
        "colab_type": "text"
      },
      "source": [
        "<a href=\"https://colab.research.google.com/github/ZobayerAbedin/DeepLearning/blob/main/digitRecognizer.ipynb\" target=\"_parent\"><img src=\"https://colab.research.google.com/assets/colab-badge.svg\" alt=\"Open In Colab\"/></a>"
      ]
    },
    {
      "cell_type": "code",
      "execution_count": 2,
      "metadata": {
        "id": "2BENoN6WjLaZ"
      },
      "outputs": [],
      "source": [
        "import numpy as np\n",
        "import pandas as pd\n",
        "import torch\n",
        "import torch.nn as nn\n",
        "import torch.nn.functional as F\n",
        "from torch.utils.data import DataLoader,TensorDataset\n",
        "from sklearn.model_selection import train_test_split\n",
        "\n",
        "\n",
        "import matplotlib.pyplot as plt\n",
        "import time\n",
        "from torchsummary import summary\n",
        "\n",
        "device = torch.device('cpu')\n",
        "\n",
        "if torch.cuda.is_available():\n",
        "  device = torch.device('cuda')"
      ]
    },
    {
      "cell_type": "code",
      "source": [
        "print(device)"
      ],
      "metadata": {
        "colab": {
          "base_uri": "https://localhost:8080/"
        },
        "id": "Yf_R7Do_ASyV",
        "outputId": "ca251e81-690e-48ff-f4f1-b5e40f98e683"
      },
      "execution_count": 3,
      "outputs": [
        {
          "output_type": "stream",
          "name": "stdout",
          "text": [
            "cuda\n"
          ]
        }
      ]
    },
    {
      "cell_type": "markdown",
      "source": [
        "# Data Manipulation\n"
      ],
      "metadata": {
        "id": "oZHvC-e_uCy9"
      }
    },
    {
      "cell_type": "markdown",
      "source": [],
      "metadata": {
        "id": "_WeayhvvuFYl"
      }
    },
    {
      "cell_type": "code",
      "source": [
        "from google.colab import drive\n",
        "drive.mount('/content/gdrive')"
      ],
      "metadata": {
        "colab": {
          "base_uri": "https://localhost:8080/"
        },
        "id": "jgi5jm3Mk27h",
        "outputId": "ad6bcbe7-0a33-4879-ca1c-0fb8d1743992"
      },
      "execution_count": 4,
      "outputs": [
        {
          "output_type": "stream",
          "name": "stdout",
          "text": [
            "Mounted at /content/gdrive\n"
          ]
        }
      ]
    },
    {
      "cell_type": "code",
      "source": [
        "df = pd.read_csv('/content/gdrive/My Drive/Colab Notebooks/Data/digit-recognizer/train.csv')\n",
        "data = df.to_numpy()\n",
        "labels = data[:, 0]\n",
        "data = data[:, 1:]"
      ],
      "metadata": {
        "id": "mleq4nrUn9YW"
      },
      "execution_count": 5,
      "outputs": []
    },
    {
      "cell_type": "code",
      "source": [
        "df.shape"
      ],
      "metadata": {
        "id": "R9Xbc-Dsz8t2",
        "colab": {
          "base_uri": "https://localhost:8080/"
        },
        "outputId": "360adc39-83d9-4b35-8eb9-bfb06f28fcb1"
      },
      "execution_count": 6,
      "outputs": [
        {
          "output_type": "execute_result",
          "data": {
            "text/plain": [
              "(42000, 785)"
            ]
          },
          "metadata": {},
          "execution_count": 6
        }
      ]
    },
    {
      "cell_type": "code",
      "source": [
        "dataNorm = data / np.max(data)\n",
        "\n",
        "fig, aa = plt.subplots(1, 2, figsize=(10, 5))\n",
        "aa[0].hist(data.flatten(), 50)\n",
        "aa[0].set_yscale('log')\n",
        "aa[0].set_title('Original Data')\n",
        "aa[0].set_xlabel('Pixel Value')\n",
        "aa[0].set_ylabel('Frequency')\n",
        "\n",
        "aa[1].hist(dataNorm.flatten(), 50)\n",
        "aa[1].set_yscale('log')\n",
        "aa[1].set_title('Normalized Data')\n",
        "aa[1].set_xlabel('Pixel Value')\n",
        "aa[1].set_ylabel('Frequency')\n",
        "\n",
        "plt.show()\n"
      ],
      "metadata": {
        "colab": {
          "base_uri": "https://localhost:8080/",
          "height": 487
        },
        "id": "vNc572p2292f",
        "outputId": "6d3223c6-0249-4b25-d951-4aa784a96f6c",
        "collapsed": true
      },
      "execution_count": 7,
      "outputs": [
        {
          "output_type": "display_data",
          "data": {
            "text/plain": [
              "<Figure size 1000x500 with 2 Axes>"
            ],
            "image/png": "[encoded data removed]"
          },
          "metadata": {}
        }
      ]
    },
    {
      "cell_type": "code",
      "source": [
        "dataT = torch.tensor(dataNorm).float()\n",
        "labelsT = torch.tensor(labels).long()\n",
        "\n",
        "trainDataT, testDataT, trainLabelsT, testLabelsT = train_test_split(dataT, labelsT, test_size = 0.1)\n",
        "\n",
        "trainData = TensorDataset(trainDataT, trainLabelsT)\n",
        "testData = TensorDataset(testDataT, testLabelsT)\n",
        "\n",
        "batchSize = 16\n",
        "\n",
        "trainLoader = DataLoader(trainData, batch_size = batchSize, shuffle = True, drop_last = True)\n",
        "testLoader = DataLoader(testData, batch_size = testData.tensors[0].shape[0])"
      ],
      "metadata": {
        "id": "yUh-fRy_63xs"
      },
      "execution_count": 8,
      "outputs": []
    },
    {
      "cell_type": "markdown",
      "source": [
        "# Model\n"
      ],
      "metadata": {
        "id": "faH_gYatlW3h"
      }
    },
    {
      "cell_type": "code",
      "source": [
        "def createNet():\n",
        "  class xNet(nn.Module):\n",
        "    def __init__(self):\n",
        "      super().__init__()\n",
        "\n",
        "      #input layer\n",
        "      self.input = nn.Linear(784, 512)\n",
        "\n",
        "      #hidden layer\n",
        "      self.l1 = nn.Linear(512, 256)\n",
        "      self.l2 = nn.Linear(256, 128)\n",
        "      self.l3 = nn.Linear(128, 64)\n",
        "      self.l4 = nn.Linear(64, 32)\n",
        "\n",
        "      #output layer\n",
        "      self.output = nn.Linear(32, 10)\n",
        "\n",
        "\n",
        "    def forward(self, x):\n",
        "      x = F.relu(self.input(x))\n",
        "      x = F.relu(self.l1(x))\n",
        "      x = F.relu(self.l2(x))\n",
        "      x = F.relu(self.l3(x))\n",
        "      x = F.relu(self.l4(x))\n",
        "\n",
        "      return torch.log_softmax(self.output(x), dim = 1)\n",
        "\n",
        "  net = xNet()\n",
        "  lossFun = nn.NLLLoss()\n",
        "  optimizer = torch.optim.Adam(net.parameters(), lr = 0.001)\n",
        "\n",
        "  return net, lossFun, optimizer"
      ],
      "metadata": {
        "id": "eCUVsDrq8PFu"
      },
      "execution_count": 9,
      "outputs": []
    },
    {
      "cell_type": "code",
      "source": [
        "net, lossFun, optimizer = createNet()\n",
        "if device != 'cpu':\n",
        "  net = net.to(device)\n",
        "summary(net, input_size = (1, 784))"
      ],
      "metadata": {
        "colab": {
          "base_uri": "https://localhost:8080/"
        },
        "id": "iDM7z4KQxnK3",
        "outputId": "9b9bf9ec-1e59-4cf8-fd79-c4f9b4febe0c"
      },
      "execution_count": 10,
      "outputs": [
        {
          "output_type": "stream",
          "name": "stdout",
          "text": [
            "----------------------------------------------------------------\n",
            "        Layer (type)               Output Shape         Param #\n",
            "================================================================\n",
            "            Linear-1               [-1, 1, 512]         401,920\n",
            "            Linear-2               [-1, 1, 256]         131,328\n",
            "            Linear-3               [-1, 1, 128]          32,896\n",
            "            Linear-4                [-1, 1, 64]           8,256\n",
            "            Linear-5                [-1, 1, 32]           2,080\n",
            "            Linear-6                [-1, 1, 10]             330\n",
            "================================================================\n",
            "Total params: 576,810\n",
            "Trainable params: 576,810\n",
            "Non-trainable params: 0\n",
            "----------------------------------------------------------------\n",
            "Input size (MB): 0.00\n",
            "Forward/backward pass size (MB): 0.01\n",
            "Params size (MB): 2.20\n",
            "Estimated Total Size (MB): 2.21\n",
            "----------------------------------------------------------------\n"
          ]
        }
      ]
    },
    {
      "cell_type": "markdown",
      "source": [
        "# Test"
      ],
      "metadata": {
        "id": "zw143VwLotht"
      }
    },
    {
      "cell_type": "code",
      "source": [
        "def testNet(net, lossFun, optimizer, testLoader):\n",
        "  data = testLoader.dataset.tensors[0]\n",
        "  labels = testLoader.dataset.tensors[1]\n",
        "\n",
        "  if device != 'cpu':\n",
        "    data = data.to(device)\n",
        "    labels = labels.to(device)\n",
        "\n",
        "  with torch.no_grad():\n",
        "    pred = net(data)\n",
        "\n",
        "  if device != 'cpu':\n",
        "    labels = labels.cpu()\n",
        "    pred = pred.cpu()\n",
        "\n",
        "  matches = (torch.argmax(pred, axis = 1) == labels).float()\n",
        "  acc = 100 * torch.mean(matches)\n",
        "\n",
        "  return acc"
      ],
      "metadata": {
        "id": "74OE0fvqna1G"
      },
      "execution_count": 11,
      "outputs": []
    },
    {
      "cell_type": "markdown",
      "source": [
        "# Train"
      ],
      "metadata": {
        "id": "_NJuXre6lf3y"
      }
    },
    {
      "cell_type": "code",
      "source": [
        "def trainNet(net, lossFun, optimizer):\n",
        "  epoch = 50\n",
        "\n",
        "  timeStart = time.process_time()\n",
        "  timeNow = timeStart\n",
        "\n",
        "  trainAcc = []\n",
        "  trainLoss = []\n",
        "  testAcc = []\n",
        "\n",
        "  for _ in range(epoch):\n",
        "\n",
        "    batchAcc = []\n",
        "    batchLoss = []\n",
        "\n",
        "    for data, labels in trainLoader:\n",
        "      data = data.to(device)\n",
        "      labels = labels.to(device)\n",
        "\n",
        "\n",
        "      ## calculate forward pass and loss\n",
        "      pred = net(data)\n",
        "      loss = lossFun(pred, labels)\n",
        "\n",
        "      ## backpropagation\n",
        "      optimizer.zero_grad()\n",
        "      loss.backward()\n",
        "      optimizer.step()\n",
        "\n",
        "      ## accurecy and loss\n",
        "      pred = pred.cpu()\n",
        "      labels = labels.cpu()\n",
        "      matches = (torch.argmax(pred, axis = 1) == labels).float()\n",
        "      acc = 100 * torch.mean(matches)\n",
        "\n",
        "\n",
        "      batchAcc.append(acc)\n",
        "      batchLoss.append(loss.item())\n",
        "\n",
        "    trainAcc.append(np.mean(batchAcc))\n",
        "    trainLoss.append(np.mean(batchLoss))\n",
        "\n",
        "\n",
        "    testAcc.append(testNet(net, lossFun, optimizer, testLoader))\n",
        "\n",
        "\n",
        "    timeTaken = time.process_time() - timeNow\n",
        "    elapsedTime = time.process_time() - timeStart\n",
        "    timeNow = time.process_time()\n",
        "\n",
        "    print(f'Epoch {_+1}/{epoch}, time taken: {timeTaken:.2f}, Lelapsed time: {elapsedTime:.2f} sec, test accuracy {testAcc[-1]:.0f}%')\n",
        "\n",
        "\n",
        "  return trainAcc, testAcc, trainLoss\n"
      ],
      "metadata": {
        "id": "fSEzwaELGDiC"
      },
      "execution_count": 12,
      "outputs": []
    },
    {
      "cell_type": "markdown",
      "source": [
        "# main"
      ],
      "metadata": {
        "id": "bRLzRHjRurhs"
      }
    },
    {
      "cell_type": "code",
      "source": [
        "startTime = time.process_time()\n",
        "\n",
        "\n",
        "acc = testNet(net, lossFun, optimizer, testLoader)\n",
        "print(acc)\n",
        "\n",
        "dT = 1000 * (time.process_time() - startTime)\n",
        "print(dT)\n"
      ],
      "metadata": {
        "colab": {
          "base_uri": "https://localhost:8080/"
        },
        "collapsed": true,
        "id": "W4z5VdqJMoph",
        "outputId": "aec91bf0-2536-4bac-cb36-e41085d612b1"
      },
      "execution_count": 13,
      "outputs": [
        {
          "output_type": "stream",
          "name": "stdout",
          "text": [
            "tensor(9.9524)\n",
            "12.960449999997792\n"
          ]
        }
      ]
    },
    {
      "cell_type": "code",
      "source": [
        "trainAcc, testAcc, trainLoss = trainNet(net, lossFun, optimizer)"
      ],
      "metadata": {
        "id": "J-fB4aUiOL_C",
        "colab": {
          "base_uri": "https://localhost:8080/"
        },
        "outputId": "78aad6d3-b30f-48a0-9ad5-e44c499d3142"
      },
      "execution_count": 14,
      "outputs": [
        {
          "output_type": "stream",
          "name": "stdout",
          "text": [
            "Epoch 1/50, time taken: 5.91, Lelapsed time: 5.91 sec, test accuracy 96%\n",
            "Epoch 2/50, time taken: 6.27, Lelapsed time: 12.18 sec, test accuracy 97%\n",
            "Epoch 3/50, time taken: 5.79, Lelapsed time: 17.97 sec, test accuracy 96%\n",
            "Epoch 4/50, time taken: 6.32, Lelapsed time: 24.28 sec, test accuracy 97%\n",
            "Epoch 5/50, time taken: 5.83, Lelapsed time: 30.11 sec, test accuracy 97%\n",
            "Epoch 6/50, time taken: 6.40, Lelapsed time: 36.52 sec, test accuracy 97%\n",
            "Epoch 7/50, time taken: 5.79, Lelapsed time: 42.31 sec, test accuracy 97%\n",
            "Epoch 8/50, time taken: 6.31, Lelapsed time: 48.62 sec, test accuracy 98%\n",
            "Epoch 9/50, time taken: 5.80, Lelapsed time: 54.42 sec, test accuracy 97%\n",
            "Epoch 10/50, time taken: 6.30, Lelapsed time: 60.72 sec, test accuracy 98%\n",
            "Epoch 11/50, time taken: 5.78, Lelapsed time: 66.50 sec, test accuracy 98%\n",
            "Epoch 12/50, time taken: 6.33, Lelapsed time: 72.83 sec, test accuracy 97%\n",
            "Epoch 13/50, time taken: 5.76, Lelapsed time: 78.59 sec, test accuracy 97%\n",
            "Epoch 14/50, time taken: 6.32, Lelapsed time: 84.91 sec, test accuracy 97%\n",
            "Epoch 15/50, time taken: 5.77, Lelapsed time: 90.68 sec, test accuracy 98%\n",
            "Epoch 16/50, time taken: 6.30, Lelapsed time: 96.98 sec, test accuracy 98%\n",
            "Epoch 17/50, time taken: 5.76, Lelapsed time: 102.74 sec, test accuracy 98%\n",
            "Epoch 18/50, time taken: 6.28, Lelapsed time: 109.02 sec, test accuracy 98%\n",
            "Epoch 19/50, time taken: 5.91, Lelapsed time: 114.93 sec, test accuracy 97%\n",
            "Epoch 20/50, time taken: 6.16, Lelapsed time: 121.09 sec, test accuracy 98%\n",
            "Epoch 21/50, time taken: 6.02, Lelapsed time: 127.11 sec, test accuracy 98%\n",
            "Epoch 22/50, time taken: 6.02, Lelapsed time: 133.13 sec, test accuracy 98%\n",
            "Epoch 23/50, time taken: 6.19, Lelapsed time: 139.32 sec, test accuracy 98%\n",
            "Epoch 24/50, time taken: 5.97, Lelapsed time: 145.28 sec, test accuracy 98%\n",
            "Epoch 25/50, time taken: 6.20, Lelapsed time: 151.49 sec, test accuracy 98%\n",
            "Epoch 26/50, time taken: 5.84, Lelapsed time: 157.33 sec, test accuracy 98%\n",
            "Epoch 27/50, time taken: 6.34, Lelapsed time: 163.66 sec, test accuracy 98%\n",
            "Epoch 28/50, time taken: 5.83, Lelapsed time: 169.50 sec, test accuracy 98%\n",
            "Epoch 29/50, time taken: 6.37, Lelapsed time: 175.87 sec, test accuracy 98%\n",
            "Epoch 30/50, time taken: 5.85, Lelapsed time: 181.72 sec, test accuracy 98%\n",
            "Epoch 31/50, time taken: 6.33, Lelapsed time: 188.05 sec, test accuracy 98%\n",
            "Epoch 32/50, time taken: 5.84, Lelapsed time: 193.89 sec, test accuracy 98%\n",
            "Epoch 33/50, time taken: 6.35, Lelapsed time: 200.24 sec, test accuracy 98%\n",
            "Epoch 34/50, time taken: 5.83, Lelapsed time: 206.07 sec, test accuracy 97%\n",
            "Epoch 35/50, time taken: 6.34, Lelapsed time: 212.41 sec, test accuracy 98%\n",
            "Epoch 36/50, time taken: 5.85, Lelapsed time: 218.26 sec, test accuracy 98%\n",
            "Epoch 37/50, time taken: 6.36, Lelapsed time: 224.62 sec, test accuracy 98%\n",
            "Epoch 38/50, time taken: 5.82, Lelapsed time: 230.44 sec, test accuracy 97%\n",
            "Epoch 39/50, time taken: 6.40, Lelapsed time: 236.84 sec, test accuracy 98%\n",
            "Epoch 40/50, time taken: 5.86, Lelapsed time: 242.69 sec, test accuracy 98%\n",
            "Epoch 41/50, time taken: 6.31, Lelapsed time: 249.00 sec, test accuracy 98%\n",
            "Epoch 42/50, time taken: 5.85, Lelapsed time: 254.85 sec, test accuracy 98%\n",
            "Epoch 43/50, time taken: 6.19, Lelapsed time: 261.04 sec, test accuracy 98%\n",
            "Epoch 44/50, time taken: 6.03, Lelapsed time: 267.07 sec, test accuracy 98%\n",
            "Epoch 45/50, time taken: 6.10, Lelapsed time: 273.17 sec, test accuracy 98%\n",
            "Epoch 46/50, time taken: 6.13, Lelapsed time: 279.30 sec, test accuracy 98%\n",
            "Epoch 47/50, time taken: 6.00, Lelapsed time: 285.30 sec, test accuracy 98%\n",
            "Epoch 48/50, time taken: 6.15, Lelapsed time: 291.45 sec, test accuracy 98%\n",
            "Epoch 49/50, time taken: 5.96, Lelapsed time: 297.41 sec, test accuracy 98%\n",
            "Epoch 50/50, time taken: 6.28, Lelapsed time: 303.68 sec, test accuracy 97%\n"
          ]
        }
      ]
    },
    {
      "cell_type": "code",
      "source": [
        "# torch.save(net.state_dict(), '/content/gdrive/My Drive/Colab Notebooks/Data/digit-recognizer/digitRecognizer.pt')"
      ],
      "metadata": {
        "id": "dQ28pB9R-f8p"
      },
      "execution_count": 15,
      "outputs": []
    },
    {
      "cell_type": "code",
      "source": [
        "# net = createNet()[0]\n",
        "# net.load_state_dict(torch.load('/content/gdrive/My Drive/Colab Notebooks/Data/digit-recognizer/digitRecognizer.pt', map_location=torch.device(device)))"
      ],
      "metadata": {
        "id": "y5B6Z56rhlZV"
      },
      "execution_count": 16,
      "outputs": []
    },
    {
      "cell_type": "code",
      "source": [
        "df = pd.read_csv('/content/gdrive/My Drive/Colab Notebooks/Data/digit-recognizer/test.csv')\n",
        "data = df.to_numpy()\n",
        "data = data / np.max(data)\n",
        "data = torch.tensor(data).float()"
      ],
      "metadata": {
        "id": "uHnGtKoh98WJ"
      },
      "execution_count": 17,
      "outputs": []
    },
    {
      "cell_type": "code",
      "source": [
        "pred = torch.argmax(net(data.to(device)), axis = 1)\n",
        "pred = pred.cpu()\n",
        "print(pred)\n",
        "df = pd.DataFrame(pred)\n",
        "df.index = np.arange(1, len(df) + 1)\n",
        "df.to_csv('/content/gdrive/My Drive/Colab Notebooks/Data/digit-recognizer/pred.csv', index = True)"
      ],
      "metadata": {
        "id": "CjXKgXLm-Zef",
        "colab": {
          "base_uri": "https://localhost:8080/"
        },
        "outputId": "0948a35f-02f2-4edd-bead-1163b788d81a"
      },
      "execution_count": 18,
      "outputs": [
        {
          "output_type": "stream",
          "name": "stdout",
          "text": [
            "tensor([2, 0, 9,  ..., 3, 9, 2])\n"
          ]
        }
      ]
    },
    {
      "cell_type": "code",
      "source": [
        "acc = testNet(net, lossFun, optimizer, testLoader)\n",
        "print(acc)"
      ],
      "metadata": {
        "id": "Gy-wEmbIR5-h",
        "outputId": "48df0621-cb6e-4fb1-c612-811660615f3a",
        "colab": {
          "base_uri": "https://localhost:8080/"
        }
      },
      "execution_count": 19,
      "outputs": [
        {
          "output_type": "stream",
          "name": "stdout",
          "text": [
            "tensor(97.0714)\n"
          ]
        }
      ]
    },
    {
      "cell_type": "code",
      "source": [
        "print(pred.shape)"
      ],
      "metadata": {
        "id": "4SuYJNXATp5V",
        "outputId": "2457ee3a-b00b-468b-862a-896dcbb551c8",
        "colab": {
          "base_uri": "https://localhost:8080/"
        }
      },
      "execution_count": 20,
      "outputs": [
        {
          "output_type": "stream",
          "name": "stdout",
          "text": [
            "torch.Size([28000])\n"
          ]
        }
      ]
    },
    {
      "cell_type": "code",
      "source": [
        "fig, aa = plt.subplots(1, 2, figsize = (16, 5))\n",
        "\n",
        "aa[0].plot(trainLoss)\n",
        "aa[0].set_xlabel('Epoch')\n",
        "aa[0].set_ylim(0, 3)\n",
        "\n",
        "\n",
        "aa[1].plot(trainAcc)\n",
        "aa[1].set_xlabel('Epoch')\n",
        "aa[1].plot(testAcc)\n",
        "\n",
        "plt.show()"
      ],
      "metadata": {
        "id": "5dPYUv6YOoes",
        "outputId": "a9fee7d1-1a8c-4439-abc2-4167d98eb9d4",
        "colab": {
          "base_uri": "https://localhost:8080/",
          "height": 382
        }
      },
      "execution_count": 21,
      "outputs": [
        {
          "output_type": "display_data",
          "data": {
            "text/plain": [
              "<Figure size 1600x500 with 2 Axes>"
            ],
            "image/png": "[encoded data removed]"
          },
          "metadata": {}
        }
      ]
    }
  ]
}