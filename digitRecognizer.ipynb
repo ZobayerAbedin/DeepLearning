{
  "nbformat": 4,
  "nbformat_minor": 0,
  "metadata": {
    "colab": {
      "provenance": [],
      "gpuType": "T4",
      "authorship_tag": "ABX9TyOIa61Es6ssWTqh54clTb9x",
      "include_colab_link": true
    },
    "kernelspec": {
      "name": "python3",
      "display_name": "Python 3"
    },
    "language_info": {
      "name": "python"
    },
    "accelerator": "GPU"
  },
  "cells": [
    {
      "cell_type": "markdown",
      "metadata": {
        "id": "view-in-github",
        "colab_type": "text"
      },
      "source": [
        "<a href=\"https://colab.research.google.com/github/ZobayerAbedin/DeepLearning/blob/main/digitRecognizer.ipynb\" target=\"_parent\"><img src=\"https://colab.research.google.com/assets/colab-badge.svg\" alt=\"Open In Colab\"/></a>"
      ]
    },
    {
      "cell_type": "code",
      "execution_count": 1,
      "metadata": {
        "id": "2BENoN6WjLaZ"
      },
      "outputs": [],
      "source": [
        "import numpy as np\n",
        "import pandas as pd\n",
        "import torch\n",
        "import torch.nn as nn\n",
        "import torch.nn.functional as F\n",
        "from torch.utils.data import DataLoader,TensorDataset\n",
        "from sklearn.model_selection import train_test_split\n",
        "\n",
        "\n",
        "import matplotlib.pyplot as plt\n",
        "import time\n",
        "from torchsummary import summary\n",
        "\n",
        "device = torch.device('cpu')\n",
        "\n",
        "if torch.cuda.is_available():\n",
        "  device = torch.device('cuda')"
      ]
    },
    {
      "cell_type": "code",
      "source": [
        "print(device)"
      ],
      "metadata": {
        "colab": {
          "base_uri": "https://localhost:8080/"
        },
        "id": "Yf_R7Do_ASyV",
        "outputId": "875f78a3-73c5-472a-ffc5-578377d4894e"
      },
      "execution_count": 2,
      "outputs": [
        {
          "output_type": "stream",
          "name": "stdout",
          "text": [
            "cuda\n"
          ]
        }
      ]
    },
    {
      "cell_type": "markdown",
      "source": [
        "# Data Manipulation\n"
      ],
      "metadata": {
        "id": "oZHvC-e_uCy9"
      }
    },
    {
      "cell_type": "markdown",
      "source": [],
      "metadata": {
        "id": "_WeayhvvuFYl"
      }
    },
    {
      "cell_type": "code",
      "source": [
        "from google.colab import drive\n",
        "drive.mount('/content/gdrive')"
      ],
      "metadata": {
        "colab": {
          "base_uri": "https://localhost:8080/"
        },
        "id": "jgi5jm3Mk27h",
        "outputId": "6d53222f-1911-42b9-c210-355d216fb6cd"
      },
      "execution_count": 3,
      "outputs": [
        {
          "output_type": "stream",
          "name": "stdout",
          "text": [
            "Mounted at /content/gdrive\n"
          ]
        }
      ]
    },
    {
      "cell_type": "code",
      "source": [
        "df = pd.read_csv('/content/gdrive/My Drive/Colab Notebooks/Data/digit-recognizer/train.csv')\n",
        "data = df.to_numpy()\n",
        "labels = data[:, 0]\n",
        "data = data[:, 1:]"
      ],
      "metadata": {
        "id": "mleq4nrUn9YW"
      },
      "execution_count": 4,
      "outputs": []
    },
    {
      "cell_type": "code",
      "source": [
        "df.shape"
      ],
      "metadata": {
        "id": "R9Xbc-Dsz8t2",
        "colab": {
          "base_uri": "https://localhost:8080/"
        },
        "outputId": "36292951-0e70-4b8c-cf9a-afc403f1b756"
      },
      "execution_count": 5,
      "outputs": [
        {
          "output_type": "execute_result",
          "data": {
            "text/plain": [
              "(42000, 785)"
            ]
          },
          "metadata": {},
          "execution_count": 5
        }
      ]
    },
    {
      "cell_type": "code",
      "source": [
        "dataNorm = data / np.max(data)\n",
        "\n",
        "fig, aa = plt.subplots(1, 2, figsize=(10, 5))\n",
        "aa[0].hist(data.flatten(), 50)\n",
        "aa[0].set_yscale('log')\n",
        "aa[0].set_title('Original Data')\n",
        "aa[0].set_xlabel('Pixel Value')\n",
        "aa[0].set_ylabel('Frequency')\n",
        "\n",
        "aa[1].hist(dataNorm.flatten(), 50)\n",
        "aa[1].set_yscale('log')\n",
        "aa[1].set_title('Normalized Data')\n",
        "aa[1].set_xlabel('Pixel Value')\n",
        "aa[1].set_ylabel('Frequency')\n",
        "\n",
        "plt.show()\n"
      ],
      "metadata": {
        "colab": {
          "base_uri": "https://localhost:8080/",
          "height": 445
        },
        "id": "vNc572p2292f",
        "outputId": "b39cf320-592e-406e-ac60-75c42a82c438",
        "collapsed": true
      },
      "execution_count": 6,
      "outputs": [
        {
          "output_type": "display_data",
          "data": {
            "text/plain": [
              "<Figure size 1000x500 with 2 Axes>"
            ],
            "image/png": "[encoded data removed]"
          },
          "metadata": {}
        }
      ]
    },
    {
      "cell_type": "code",
      "source": [
        "dataT = torch.tensor(dataNorm).float()\n",
        "labelsT = torch.tensor(labels).long()\n",
        "\n",
        "trainDataT, testDataT, trainLabelsT, testLabelsT = train_test_split(dataT, labelsT, test_size = 0.1)\n",
        "\n",
        "trainData = TensorDataset(trainDataT, trainLabelsT)\n",
        "testData = TensorDataset(testDataT, testLabelsT)\n",
        "\n",
        "batchSize = 16\n",
        "\n",
        "trainLoader = DataLoader(trainData, batch_size = batchSize, shuffle = True, drop_last = True)\n",
        "testLoader = DataLoader(testData, batch_size = testData.tensors[0].shape[0])"
      ],
      "metadata": {
        "id": "yUh-fRy_63xs"
      },
      "execution_count": 7,
      "outputs": []
    },
    {
      "cell_type": "markdown",
      "source": [
        "# Model\n"
      ],
      "metadata": {
        "id": "faH_gYatlW3h"
      }
    },
    {
      "cell_type": "code",
      "source": [
        "def createNet():\n",
        "  class xNet(nn.Module):\n",
        "    def __init__(self):\n",
        "      super().__init__()\n",
        "\n",
        "      #input layer\n",
        "      self.input = nn.Linear(784, 512)\n",
        "\n",
        "      #hidden layer\n",
        "      self.l1 = nn.Linear(512, 256)\n",
        "      self.l2 = nn.Linear(256, 128)\n",
        "      self.l3 = nn.Linear(128, 64)\n",
        "      self.l4 = nn.Linear(64, 32)\n",
        "\n",
        "      #output layer\n",
        "      self.output = nn.Linear(32, 10)\n",
        "\n",
        "\n",
        "    def forward(self, x):\n",
        "      x = F.relu(self.input(x))\n",
        "      x = F.relu(self.l1(x))\n",
        "      x = F.relu(self.l2(x))\n",
        "      x = F.relu(self.l3(x))\n",
        "      x = F.relu(self.l4(x))\n",
        "\n",
        "      return torch.log_softmax(self.output(x), dim = 1)\n",
        "\n",
        "  net = xNet()\n",
        "  lossFun = nn.NLLLoss()\n",
        "  optimizer = torch.optim.Adam(net.parameters(), lr = 0.001)\n",
        "\n",
        "  return net, lossFun, optimizer"
      ],
      "metadata": {
        "id": "eCUVsDrq8PFu"
      },
      "execution_count": 8,
      "outputs": []
    },
    {
      "cell_type": "code",
      "source": [
        "net, lossFun, optimizer = createNet()\n",
        "if device != 'cpu':\n",
        "  net = net.to(device)\n",
        "summary(net, input_size = (1, 784))"
      ],
      "metadata": {
        "colab": {
          "base_uri": "https://localhost:8080/"
        },
        "id": "iDM7z4KQxnK3",
        "outputId": "f5e7f4e5-c985-4045-d89f-405b360b52d7"
      },
      "execution_count": 9,
      "outputs": [
        {
          "output_type": "stream",
          "name": "stdout",
          "text": [
            "----------------------------------------------------------------\n",
            "        Layer (type)               Output Shape         Param #\n",
            "================================================================\n",
            "            Linear-1               [-1, 1, 512]         401,920\n",
            "            Linear-2               [-1, 1, 256]         131,328\n",
            "            Linear-3               [-1, 1, 128]          32,896\n",
            "            Linear-4                [-1, 1, 64]           8,256\n",
            "            Linear-5                [-1, 1, 32]           2,080\n",
            "            Linear-6                [-1, 1, 10]             330\n",
            "================================================================\n",
            "Total params: 576,810\n",
            "Trainable params: 576,810\n",
            "Non-trainable params: 0\n",
            "----------------------------------------------------------------\n",
            "Input size (MB): 0.00\n",
            "Forward/backward pass size (MB): 0.01\n",
            "Params size (MB): 2.20\n",
            "Estimated Total Size (MB): 2.21\n",
            "----------------------------------------------------------------\n"
          ]
        }
      ]
    },
    {
      "cell_type": "markdown",
      "source": [
        "# Test"
      ],
      "metadata": {
        "id": "zw143VwLotht"
      }
    },
    {
      "cell_type": "code",
      "source": [
        "def testNet(net, lossFun, optimizer, testLoader):\n",
        "  data = testLoader.dataset.tensors[0]\n",
        "  labels = testLoader.dataset.tensors[1]\n",
        "\n",
        "  if device != 'cpu':\n",
        "    data = data.to(device)\n",
        "    labels = labels.to(device)\n",
        "\n",
        "  with torch.no_grad():\n",
        "    pred = net(data)\n",
        "\n",
        "  if device != 'cpu':\n",
        "    labels = labels.cpu()\n",
        "    pred = pred.cpu()\n",
        "\n",
        "  matches = (torch.argmax(pred, axis = 1) == labels).float()\n",
        "  acc = 100 * torch.mean(matches)\n",
        "\n",
        "  return acc"
      ],
      "metadata": {
        "id": "74OE0fvqna1G"
      },
      "execution_count": 10,
      "outputs": []
    },
    {
      "cell_type": "markdown",
      "source": [
        "# Train"
      ],
      "metadata": {
        "id": "_NJuXre6lf3y"
      }
    },
    {
      "cell_type": "code",
      "source": [
        "def trainNet(net, lossFun, optimizer):\n",
        "  epoch = 50\n",
        "\n",
        "  timeStart = time.process_time()\n",
        "  timeNow = timeStart\n",
        "\n",
        "  trainAcc = []\n",
        "  trainLoss = []\n",
        "  testAcc = []\n",
        "\n",
        "  for _ in range(epoch):\n",
        "\n",
        "    batchAcc = []\n",
        "    batchLoss = []\n",
        "\n",
        "    for data, labels in trainLoader:\n",
        "      data = data.to(device)\n",
        "      labels = labels.to(device)\n",
        "\n",
        "\n",
        "      ## calculate forward pass and loss\n",
        "      pred = net(data)\n",
        "      loss = lossFun(pred, labels)\n",
        "\n",
        "      ## backpropagation\n",
        "      optimizer.zero_grad()\n",
        "      loss.backward()\n",
        "      optimizer.step()\n",
        "\n",
        "      ## accurecy and loss\n",
        "      pred = pred.cpu()\n",
        "      labels = labels.cpu()\n",
        "      matches = (torch.argmax(pred, axis = 1) == labels).float()\n",
        "      acc = 100 * torch.mean(matches)\n",
        "\n",
        "\n",
        "      batchAcc.append(acc)\n",
        "      batchLoss.append(loss.item())\n",
        "\n",
        "    trainAcc.append(np.mean(batchAcc))\n",
        "    trainLoss.append(np.mean(batchLoss))\n",
        "\n",
        "\n",
        "    testAcc.append(testNet(net, lossFun, optimizer, testLoader))\n",
        "\n",
        "\n",
        "    timeTaken = time.process_time() - timeNow\n",
        "    elapsedTime = time.process_time() - timeStart\n",
        "    timeNow = time.process_time()\n",
        "\n",
        "    print(f'Epoch {_+1}/{epoch}, time taken: {timeTaken:.2f}, Lelapsed time: {elapsedTime:.2f} sec, test accuracy {testAcc[-1]:.0f}%')\n",
        "\n",
        "\n",
        "  return trainAcc, testAcc, trainLoss\n"
      ],
      "metadata": {
        "id": "fSEzwaELGDiC"
      },
      "execution_count": 11,
      "outputs": []
    },
    {
      "cell_type": "markdown",
      "source": [
        "# main"
      ],
      "metadata": {
        "id": "bRLzRHjRurhs"
      }
    },
    {
      "cell_type": "code",
      "source": [
        "startTime = time.process_time()\n",
        "\n",
        "\n",
        "acc = testNet(net, lossFun, optimizer, testLoader)\n",
        "print(acc)\n",
        "\n",
        "dT = 1000 * (time.process_time() - startTime)\n",
        "print(dT)\n"
      ],
      "metadata": {
        "colab": {
          "base_uri": "https://localhost:8080/"
        },
        "collapsed": true,
        "id": "W4z5VdqJMoph",
        "outputId": "ad152073-7543-469c-f03d-b618eb715447"
      },
      "execution_count": 12,
      "outputs": [
        {
          "output_type": "stream",
          "name": "stdout",
          "text": [
            "tensor(9.0952)\n",
            "13.580249000000322\n"
          ]
        }
      ]
    },
    {
      "cell_type": "code",
      "source": [
        "trainAcc, testAcc, trainLoss = trainNet(net, lossFun, optimizer)"
      ],
      "metadata": {
        "id": "J-fB4aUiOL_C",
        "colab": {
          "base_uri": "https://localhost:8080/"
        },
        "outputId": "577b46b3-20c2-4535-b388-e0ab0d18f14e"
      },
      "execution_count": null,
      "outputs": [
        {
          "output_type": "stream",
          "name": "stdout",
          "text": [
            "Epoch 1/50, time taken: 6.07, Lelapsed time: 6.07 sec, test accuracy 96%\n",
            "Epoch 2/50, time taken: 6.42, Lelapsed time: 12.49 sec, test accuracy 97%\n",
            "Epoch 3/50, time taken: 5.91, Lelapsed time: 18.40 sec, test accuracy 97%\n",
            "Epoch 4/50, time taken: 6.53, Lelapsed time: 24.94 sec, test accuracy 97%\n",
            "Epoch 5/50, time taken: 5.97, Lelapsed time: 30.91 sec, test accuracy 97%\n",
            "Epoch 6/50, time taken: 7.19, Lelapsed time: 38.09 sec, test accuracy 97%\n",
            "Epoch 7/50, time taken: 6.47, Lelapsed time: 44.56 sec, test accuracy 97%\n",
            "Epoch 8/50, time taken: 6.24, Lelapsed time: 50.80 sec, test accuracy 97%\n",
            "Epoch 9/50, time taken: 6.98, Lelapsed time: 57.78 sec, test accuracy 97%\n",
            "Epoch 10/50, time taken: 6.45, Lelapsed time: 64.23 sec, test accuracy 97%\n",
            "Epoch 11/50, time taken: 6.87, Lelapsed time: 71.10 sec, test accuracy 98%\n",
            "Epoch 12/50, time taken: 6.23, Lelapsed time: 77.33 sec, test accuracy 98%\n",
            "Epoch 13/50, time taken: 6.46, Lelapsed time: 83.79 sec, test accuracy 98%\n",
            "Epoch 14/50, time taken: 5.88, Lelapsed time: 89.67 sec, test accuracy 97%\n",
            "Epoch 15/50, time taken: 6.49, Lelapsed time: 96.16 sec, test accuracy 97%\n",
            "Epoch 16/50, time taken: 6.72, Lelapsed time: 102.88 sec, test accuracy 97%\n",
            "Epoch 17/50, time taken: 7.24, Lelapsed time: 110.12 sec, test accuracy 97%\n",
            "Epoch 18/50, time taken: 6.59, Lelapsed time: 116.71 sec, test accuracy 98%\n",
            "Epoch 19/50, time taken: 6.38, Lelapsed time: 123.09 sec, test accuracy 97%\n",
            "Epoch 20/50, time taken: 6.21, Lelapsed time: 129.30 sec, test accuracy 98%\n",
            "Epoch 21/50, time taken: 6.38, Lelapsed time: 135.67 sec, test accuracy 97%\n",
            "Epoch 22/50, time taken: 6.76, Lelapsed time: 142.43 sec, test accuracy 97%\n",
            "Epoch 23/50, time taken: 6.18, Lelapsed time: 148.61 sec, test accuracy 98%\n",
            "Epoch 24/50, time taken: 6.51, Lelapsed time: 155.12 sec, test accuracy 98%\n",
            "Epoch 25/50, time taken: 6.46, Lelapsed time: 161.58 sec, test accuracy 98%\n",
            "Epoch 26/50, time taken: 6.65, Lelapsed time: 168.23 sec, test accuracy 97%\n",
            "Epoch 27/50, time taken: 5.92, Lelapsed time: 174.15 sec, test accuracy 97%\n",
            "Epoch 28/50, time taken: 6.49, Lelapsed time: 180.64 sec, test accuracy 97%\n",
            "Epoch 29/50, time taken: 6.02, Lelapsed time: 186.66 sec, test accuracy 97%\n",
            "Epoch 30/50, time taken: 6.79, Lelapsed time: 193.45 sec, test accuracy 98%\n",
            "Epoch 31/50, time taken: 6.44, Lelapsed time: 199.89 sec, test accuracy 97%\n",
            "Epoch 32/50, time taken: 7.11, Lelapsed time: 207.00 sec, test accuracy 98%\n",
            "Epoch 33/50, time taken: 6.44, Lelapsed time: 213.44 sec, test accuracy 97%\n",
            "Epoch 34/50, time taken: 6.99, Lelapsed time: 220.43 sec, test accuracy 98%\n",
            "Epoch 35/50, time taken: 7.25, Lelapsed time: 227.68 sec, test accuracy 97%\n",
            "Epoch 36/50, time taken: 6.06, Lelapsed time: 233.74 sec, test accuracy 97%\n"
          ]
        }
      ]
    },
    {
      "cell_type": "code",
      "source": [
        "# torch.save(net.state_dict(), '/content/gdrive/My Drive/Colab Notebooks/Data/digit-recognizer/digitRecognizer.pt')"
      ],
      "metadata": {
        "id": "dQ28pB9R-f8p"
      },
      "execution_count": null,
      "outputs": []
    },
    {
      "cell_type": "code",
      "source": [
        "# net = createNet()[0]\n",
        "# net.load_state_dict(torch.load('/content/gdrive/My Drive/Colab Notebooks/Data/digit-recognizer/digitRecognizer.pt', map_location=torch.device(device)))"
      ],
      "metadata": {
        "id": "y5B6Z56rhlZV"
      },
      "execution_count": null,
      "outputs": []
    },
    {
      "cell_type": "code",
      "source": [
        "df = pd.read_csv('/content/gdrive/My Drive/Colab Notebooks/Data/digit-recognizer/test.csv')\n",
        "data = df.to_numpy()\n",
        "data = data / np.max(data)"
      ],
      "metadata": {
        "id": "uHnGtKoh98WJ"
      },
      "execution_count": null,
      "outputs": []
    },
    {
      "cell_type": "code",
      "source": [
        "yHat = net(torch.tensor(data).float())\n",
        "pred = (torch.argmax(yHat, axis = 1))\n",
        "print(pred)\n",
        "df = pd.DataFrame(pred)\n",
        "df.index = np.arange(1, len(df) + 1)\n",
        "df.to_csv('/content/gdrive/My Drive/Colab Notebooks/Data/digit-recognizer/pred.csv', index = True)"
      ],
      "metadata": {
        "id": "CjXKgXLm-Zef"
      },
      "execution_count": null,
      "outputs": []
    },
    {
      "cell_type": "code",
      "source": [
        "x, y = next(iter(testLoader))\n",
        "\n",
        "yHat = net(x)\n",
        "matches = (torch.argmax(yHat, axis = 1) == y).float()\n",
        "testAcc = 100 * torch.mean(matches)\n",
        "\n",
        "print(testAcc)"
      ],
      "metadata": {
        "id": "Gy-wEmbIR5-h"
      },
      "execution_count": null,
      "outputs": []
    },
    {
      "cell_type": "code",
      "source": [
        "print(pred.shape)"
      ],
      "metadata": {
        "id": "4SuYJNXATp5V"
      },
      "execution_count": null,
      "outputs": []
    },
    {
      "cell_type": "code",
      "source": [
        "fig, aa = plt.subplots(1, 2, figsize = (16, 5))\n",
        "\n",
        "aa[0].plot(trainLoss)\n",
        "aa[0].set_xlabel('Epoch')\n",
        "aa[0].set_ylim(0, 3)\n",
        "\n",
        "\n",
        "aa[1].plot(trainAcc)\n",
        "aa[1].set_xlabel('Epoch')\n",
        "aa[1].plot(testAcc)\n",
        "\n",
        "plt.show()"
      ],
      "metadata": {
        "id": "5dPYUv6YOoes"
      },
      "execution_count": null,
      "outputs": []
    }
  ]
}