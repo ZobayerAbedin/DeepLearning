{
  "nbformat": 4,
  "nbformat_minor": 0,
  "metadata": {
    "colab": {
      "provenance": [],
      "collapsed_sections": [
        "FJEZXNOk8twv",
        "sDOMq1XEU8Rm"
      ],
      "authorship_tag": "ABX9TyPBcfSzLrrdnlTwo/yP0g+l",
      "include_colab_link": true
    },
    "kernelspec": {
      "name": "python3",
      "display_name": "Python 3"
    },
    "language_info": {
      "name": "python"
    }
  },
  "cells": [
    {
      "cell_type": "markdown",
      "metadata": {
        "id": "view-in-github",
        "colab_type": "text"
      },
      "source": [
        "<a href=\"https://colab.research.google.com/github/ZobayerAbedin/DeepLearning/blob/main/Character_recognition_00_with_Google_Street_View_images.ipynb\" target=\"_parent\"><img src=\"https://colab.research.google.com/assets/colab-badge.svg\" alt=\"Open In Colab\"/></a>"
      ]
    },
    {
      "cell_type": "code",
      "execution_count": 35,
      "metadata": {
        "colab": {
          "base_uri": "https://localhost:8080/"
        },
        "id": "pKVLrretVqam",
        "outputId": "168a6776-954f-4953-d224-236d1e1c7b60"
      },
      "outputs": [
        {
          "output_type": "execute_result",
          "data": {
            "text/plain": [
              "device(type='cpu')"
            ]
          },
          "metadata": {},
          "execution_count": 35
        }
      ],
      "source": [
        "import numpy as np\n",
        "import pandas as pd\n",
        "\n",
        "import torch\n",
        "import torch.nn as nn\n",
        "import torch.nn.functional as F\n",
        "import torchvision\n",
        "import torchvision.transforms as T\n",
        "from torchvision.transforms import Compose, Resize, InterpolationMode, ToTensor, Normalize\n",
        "from torch.utils.data import Dataset, DataLoader, TensorDataset\n",
        "from sklearn.model_selection import train_test_split\n",
        "from concurrent.futures import ThreadPoolExecutor\n",
        "\n",
        "import matplotlib.pyplot as plt\n",
        "import time\n",
        "from torchsummary import summary\n",
        "import cv2\n",
        "from PIL import Image\n",
        "\n",
        "import os\n",
        "import zipfile\n",
        "device = torch.device('cuda' if torch.cuda.is_available() else 'cpu')\n",
        "device"
      ]
    },
    {
      "cell_type": "markdown",
      "source": [
        "# Data manupulation"
      ],
      "metadata": {
        "id": "u3j9VBIJb1cI"
      }
    },
    {
      "cell_type": "code",
      "source": [
        "# from google.colab import drive\n",
        "# drive.mount('/content/gdrive/')"
      ],
      "metadata": {
        "id": "JiYOIwYEWP0-"
      },
      "execution_count": 36,
      "outputs": []
    },
    {
      "cell_type": "code",
      "source": [
        "# baseDir = '/content/gdrive/My Drive/Colab_Notebooks/Data/Char_Classification/'\n",
        "baseDir = 'C:/Users/SM. Zobayer Abedin/Documents/DeepLearning/street-view-getting-started-with-julia/'"
      ],
      "metadata": {
        "id": "EW3IXmTC3l4R"
      },
      "execution_count": 37,
      "outputs": []
    },
    {
      "cell_type": "code",
      "source": [
        "def dataExtraction(extractionDir, filePath):\n",
        "    # Create the target directory if it does not exist\n",
        "    if not os.path.exists(extractionDir):\n",
        "        os.makedirs(extractionDir)\n",
        "\n",
        "    try:\n",
        "        with zipfile.ZipFile(filePath, \"r\") as zfile:\n",
        "            zfile.extractall(extractionDir)\n",
        "        print(f\"Extraction complete. Files have been extracted to: {extractionDir}\")\n",
        "\n",
        "    except zipfile.BadZipFile:\n",
        "        print(f\"Error: '{filePath}' is not a valid ZIP file or may be corrupted.\")\n",
        "\n",
        "    except FileNotFoundError:\n",
        "        print(f\"Error: The file '{filePath}' does not exist.\")"
      ],
      "metadata": {
        "id": "RfF2hG_gjBqX"
      },
      "execution_count": 38,
      "outputs": []
    },
    {
      "cell_type": "code",
      "source": [
        "# dataExtraction(baseDir, baseDir + 'train.zip')\n",
        "# dataExtraction(baseDir, baseDir + 'test.zip')"
      ],
      "metadata": {
        "id": "rOhj0WQ_kh8l"
      },
      "execution_count": 39,
      "outputs": []
    },
    {
      "cell_type": "code",
      "source": [
        "os.path.isdir(baseDir)"
      ],
      "metadata": {
        "colab": {
          "base_uri": "https://localhost:8080/"
        },
        "id": "ZZk_9mLbBMj6",
        "outputId": "8181fc0e-e811-4db3-96e6-15e081bd9636"
      },
      "execution_count": 40,
      "outputs": [
        {
          "output_type": "execute_result",
          "data": {
            "text/plain": [
              "True"
            ]
          },
          "metadata": {},
          "execution_count": 40
        }
      ]
    },
    {
      "cell_type": "code",
      "source": [
        "class ImageDataset(Dataset):\n",
        "    def __init__(self, csvFile, imgDir, transform=None):\n",
        "        self.labels = pd.read_csv(csvFile)\n",
        "        self.imgDir = imgDir\n",
        "        self.transform = transform\n",
        "\n",
        "        # self.labels = self.labels.head(200)\n",
        "        unq = sorted(self.labels['Class'].unique())\n",
        "        self.toLabel = {char: i for i, char in enumerate(unq)}\n",
        "        self.labels = self.labels.replace({'Class': self.toLabel})\n",
        "        self.labels = torch.tensor(self.labels.values)\n",
        "\n",
        "\n",
        "        # Load all images into memory using parallel processing\n",
        "        self.images = [None] * len(self.labels)\n",
        "        with ThreadPoolExecutor() as executor:\n",
        "            executor.map(self.loadImage, range(len(self.labels)))\n",
        "\n",
        "    def loadImage(self, idx):\n",
        "        imgPath = os.path.join(self.imgDir, str(self.labels[idx][0].item()) + \".Bmp\")\n",
        "\n",
        "        image = Image.open(imgPath).convert(\"RGB\")\n",
        "        if self.transform:\n",
        "            image = self.transform(image)\n",
        "        self.images[idx] = image\n",
        "\n",
        "    def __len__(self):\n",
        "        return len(self.labels)\n",
        "\n",
        "    def __getitem__(self, idx):\n",
        "        image = self.images[idx]\n",
        "        label = self.labels[idx][1]\n",
        "        return image, label\n"
      ],
      "metadata": {
        "id": "gbSfA70Launw"
      },
      "execution_count": 41,
      "outputs": []
    },
    {
      "cell_type": "code",
      "source": [],
      "metadata": {
        "id": "E3GbjEs90_vC"
      },
      "execution_count": 41,
      "outputs": []
    },
    {
      "cell_type": "code",
      "source": [
        "imgSize = 32\n",
        "transform = T.Compose([T.Resize((imgSize, imgSize)),\n",
        "                       T.ToTensor()\n",
        "                        ])\n",
        "\n",
        "# # Load the dataset\n",
        "# dataset = ImageDataset(baseDir + 'trainLabels.csv', baseDir + 'train', transform)\n",
        "\n",
        "# # Initialize variables to store the sum and squared sum of pixel values\n",
        "# # Initialize variables to store the sum and sum of squares of pixel values\n",
        "# sum_rgb = np.zeros(3)\n",
        "# sum_sq_rgb = np.zeros(3)\n",
        "# num_pixels = 0\n",
        "\n",
        "# # Iterate over each image in the dataset\n",
        "# for image_tensor, _ in dataset:\n",
        "\n",
        "#     # Update the sum and sum of squares\n",
        "#     sum_rgb += image_tensor.sum(dim=(1, 2)).numpy()\n",
        "#     sum_sq_rgb += (image_tensor ** 2).sum(dim=(1, 2)).numpy()\n",
        "\n",
        "#     # Update the number of pixels\n",
        "#     num_pixels += image_tensor.shape[1] * image_tensor.shape[2]\n",
        "\n",
        "# # Calculate the mean and standard deviation\n",
        "# mean_rgb = sum_rgb / num_pixels\n",
        "# std_rgb = np.sqrt(sum_sq_rgb / num_pixels - mean_rgb ** 2)\n",
        "\n",
        "# print(f'Mean: {mean_rgb}')\n",
        "# print(f'Std: {std_rgb}')"
      ],
      "metadata": {
        "id": "TzFvwfbR1AEr"
      },
      "execution_count": 42,
      "outputs": []
    },
    {
      "cell_type": "code",
      "source": [
        "mean_rgb = [0.51633593, 0.47992162, 0.45069369]\n",
        "std_rgb = [0.25336818, 0.2420341,  0.25040966]"
      ],
      "metadata": {
        "id": "xRag4Fto1G4-"
      },
      "execution_count": 43,
      "outputs": []
    },
    {
      "cell_type": "code",
      "source": [
        "imgSize = 32\n",
        "transform = T.Compose([T.Resize((imgSize, imgSize)),\n",
        "                       T.ToTensor(),\n",
        "                       T.Normalize(mean_rgb, std_rgb)\n",
        "                       ])\n",
        "\n",
        "# dataset = ImageDataset(baseDir + 'trainLabels.csv', baseDir + 'train', transform)\n",
        "# torch.save(dataset, baseDir + 'charDatasetTrain.pt')\n",
        "\n",
        "torch.serialization.add_safe_globals([ImageDataset, Compose, Resize, ToTensor, Normalize, InterpolationMode])\n",
        "dataset = torch.load(baseDir + 'charDatasetTrain.pt')\n",
        "\n",
        "\n",
        "\n",
        "trainSize = int(0.9 * len(dataset))\n",
        "testSize = len(dataset) - trainSize\n",
        "trainData, testData = torch.utils.data.random_split(dataset, [trainSize, testSize], generator=torch.Generator().manual_seed(123))\n",
        "\n",
        "batchSize = 32\n",
        "trainLoader = DataLoader(trainData, batch_size=batchSize, shuffle=True, drop_last=True)\n",
        "testLoader = DataLoader(testData, batch_size=batchSize, shuffle=False)\n"
      ],
      "metadata": {
        "id": "LAs5Zjbq9qkf",
        "outputId": "23327dba-b80b-432b-9953-5e2ff792bc6b",
        "colab": {
          "base_uri": "https://localhost:8080/",
          "height": 939
        }
      },
      "execution_count": 50,
      "outputs": [
        {
          "output_type": "error",
          "ename": "AttributeError",
          "evalue": "module 'numpy._core' has no attribute '__module__'",
          "traceback": [
            "\u001b[1;31m---------------------------------------------------------------------------\u001b[0m",
            "\u001b[1;31mAttributeError\u001b[0m                            Traceback (most recent call last)",
            "Cell \u001b[1;32mIn[50], line 11\u001b[0m\n\u001b[0;32m      7\u001b[0m \u001b[38;5;66;03m# dataset = ImageDataset(baseDir + 'trainLabels.csv', baseDir + 'train', transform)\u001b[39;00m\n\u001b[0;32m      8\u001b[0m \u001b[38;5;66;03m# torch.save(dataset, baseDir + 'charDatasetTrain.pt')\u001b[39;00m\n\u001b[0;32m     10\u001b[0m torch\u001b[38;5;241m.\u001b[39mserialization\u001b[38;5;241m.\u001b[39madd_safe_globals([ImageDataset, Compose, Resize, ToTensor, Normalize, InterpolationMode])\n\u001b[1;32m---> 11\u001b[0m dataset \u001b[38;5;241m=\u001b[39m \u001b[43mtorch\u001b[49m\u001b[38;5;241;43m.\u001b[39;49m\u001b[43mload\u001b[49m\u001b[43m(\u001b[49m\u001b[43mbaseDir\u001b[49m\u001b[43m \u001b[49m\u001b[38;5;241;43m+\u001b[39;49m\u001b[43m \u001b[49m\u001b[38;5;124;43m'\u001b[39;49m\u001b[38;5;124;43mcharDatasetTrain.pt\u001b[39;49m\u001b[38;5;124;43m'\u001b[39;49m\u001b[43m)\u001b[49m\n\u001b[0;32m     15\u001b[0m trainSize \u001b[38;5;241m=\u001b[39m \u001b[38;5;28mint\u001b[39m(\u001b[38;5;241m0.9\u001b[39m \u001b[38;5;241m*\u001b[39m \u001b[38;5;28mlen\u001b[39m(dataset))\n\u001b[0;32m     16\u001b[0m testSize \u001b[38;5;241m=\u001b[39m \u001b[38;5;28mlen\u001b[39m(dataset) \u001b[38;5;241m-\u001b[39m trainSize\n",
            "File \u001b[1;32mC:\\Python\\Lib\\site-packages\\torch\\serialization.py:1462\u001b[0m, in \u001b[0;36mload\u001b[1;34m(f, map_location, pickle_module, weights_only, mmap, **pickle_load_args)\u001b[0m\n\u001b[0;32m   1460\u001b[0m \u001b[38;5;28;01mif\u001b[39;00m weights_only:\n\u001b[0;32m   1461\u001b[0m     \u001b[38;5;28;01mtry\u001b[39;00m:\n\u001b[1;32m-> 1462\u001b[0m         \u001b[38;5;28;01mreturn\u001b[39;00m \u001b[43m_load\u001b[49m\u001b[43m(\u001b[49m\n\u001b[0;32m   1463\u001b[0m \u001b[43m            \u001b[49m\u001b[43mopened_zipfile\u001b[49m\u001b[43m,\u001b[49m\n\u001b[0;32m   1464\u001b[0m \u001b[43m            \u001b[49m\u001b[43mmap_location\u001b[49m\u001b[43m,\u001b[49m\n\u001b[0;32m   1465\u001b[0m \u001b[43m            \u001b[49m\u001b[43m_weights_only_unpickler\u001b[49m\u001b[43m,\u001b[49m\n\u001b[0;32m   1466\u001b[0m \u001b[43m            \u001b[49m\u001b[43moverall_storage\u001b[49m\u001b[38;5;241;43m=\u001b[39;49m\u001b[43moverall_storage\u001b[49m\u001b[43m,\u001b[49m\n\u001b[0;32m   1467\u001b[0m \u001b[43m            \u001b[49m\u001b[38;5;241;43m*\u001b[39;49m\u001b[38;5;241;43m*\u001b[39;49m\u001b[43mpickle_load_args\u001b[49m\u001b[43m,\u001b[49m\n\u001b[0;32m   1468\u001b[0m \u001b[43m        \u001b[49m\u001b[43m)\u001b[49m\n\u001b[0;32m   1469\u001b[0m     \u001b[38;5;28;01mexcept\u001b[39;00m pickle\u001b[38;5;241m.\u001b[39mUnpicklingError \u001b[38;5;28;01mas\u001b[39;00m e:\n\u001b[0;32m   1470\u001b[0m         \u001b[38;5;28;01mraise\u001b[39;00m pickle\u001b[38;5;241m.\u001b[39mUnpicklingError(_get_wo_message(\u001b[38;5;28mstr\u001b[39m(e))) \u001b[38;5;28;01mfrom\u001b[39;00m \u001b[38;5;28;01mNone\u001b[39;00m\n",
            "File \u001b[1;32mC:\\Python\\Lib\\site-packages\\torch\\serialization.py:1964\u001b[0m, in \u001b[0;36m_load\u001b[1;34m(zip_file, map_location, pickle_module, pickle_file, overall_storage, **pickle_load_args)\u001b[0m\n\u001b[0;32m   1962\u001b[0m \u001b[38;5;28;01mglobal\u001b[39;00m _serialization_tls\n\u001b[0;32m   1963\u001b[0m _serialization_tls\u001b[38;5;241m.\u001b[39mmap_location \u001b[38;5;241m=\u001b[39m map_location\n\u001b[1;32m-> 1964\u001b[0m result \u001b[38;5;241m=\u001b[39m \u001b[43munpickler\u001b[49m\u001b[38;5;241;43m.\u001b[39;49m\u001b[43mload\u001b[49m\u001b[43m(\u001b[49m\u001b[43m)\u001b[49m\n\u001b[0;32m   1965\u001b[0m _serialization_tls\u001b[38;5;241m.\u001b[39mmap_location \u001b[38;5;241m=\u001b[39m \u001b[38;5;28;01mNone\u001b[39;00m\n\u001b[0;32m   1967\u001b[0m torch\u001b[38;5;241m.\u001b[39m_utils\u001b[38;5;241m.\u001b[39m_validate_loaded_sparse_tensors()\n",
            "File \u001b[1;32mC:\\Python\\Lib\\site-packages\\torch\\_weights_only_unpickler.py:334\u001b[0m, in \u001b[0;36mUnpickler.load\u001b[1;34m(self)\u001b[0m\n\u001b[0;32m    332\u001b[0m \u001b[38;5;28;01mif\u001b[39;00m full_path \u001b[38;5;129;01min\u001b[39;00m _get_allowed_globals():\n\u001b[0;32m    333\u001b[0m     \u001b[38;5;28mself\u001b[39m\u001b[38;5;241m.\u001b[39mappend(_get_allowed_globals()[full_path])\n\u001b[1;32m--> 334\u001b[0m \u001b[38;5;28;01melif\u001b[39;00m full_path \u001b[38;5;129;01min\u001b[39;00m \u001b[43m_get_user_allowed_globals\u001b[49m\u001b[43m(\u001b[49m\u001b[43m)\u001b[49m:\n\u001b[0;32m    335\u001b[0m     \u001b[38;5;28mself\u001b[39m\u001b[38;5;241m.\u001b[39mappend(_get_user_allowed_globals()[full_path])\n\u001b[0;32m    336\u001b[0m \u001b[38;5;28;01melif\u001b[39;00m full_path \u001b[38;5;129;01min\u001b[39;00m (\n\u001b[0;32m    337\u001b[0m     [\n\u001b[0;32m    338\u001b[0m         \u001b[38;5;124m\"\u001b[39m\u001b[38;5;124mtorch.nested._internal.nested_tensor.NestedTensor\u001b[39m\u001b[38;5;124m\"\u001b[39m,\n\u001b[1;32m   (...)\u001b[0m\n\u001b[0;32m    341\u001b[0m     ]\n\u001b[0;32m    342\u001b[0m ):\n",
            "File \u001b[1;32mC:\\Python\\Lib\\site-packages\\torch\\_weights_only_unpickler.py:144\u001b[0m, in \u001b[0;36m_get_user_allowed_globals\u001b[1;34m()\u001b[0m\n\u001b[0;32m    142\u001b[0m         rc[name] \u001b[38;5;241m=\u001b[39m f\n\u001b[0;32m    143\u001b[0m     \u001b[38;5;28;01melse\u001b[39;00m:\n\u001b[1;32m--> 144\u001b[0m         module, name \u001b[38;5;241m=\u001b[39m \u001b[43mf\u001b[49m\u001b[38;5;241;43m.\u001b[39;49m\u001b[38;5;18;43m__module__\u001b[39;49m, f\u001b[38;5;241m.\u001b[39m\u001b[38;5;18m__name__\u001b[39m\n\u001b[0;32m    145\u001b[0m         rc[\u001b[38;5;124mf\u001b[39m\u001b[38;5;124m\"\u001b[39m\u001b[38;5;132;01m{\u001b[39;00mmodule\u001b[38;5;132;01m}\u001b[39;00m\u001b[38;5;124m.\u001b[39m\u001b[38;5;132;01m{\u001b[39;00mname\u001b[38;5;132;01m}\u001b[39;00m\u001b[38;5;124m\"\u001b[39m] \u001b[38;5;241m=\u001b[39m f\n\u001b[0;32m    146\u001b[0m \u001b[38;5;28;01mreturn\u001b[39;00m rc\n",
            "\u001b[1;31mAttributeError\u001b[0m: module 'numpy._core' has no attribute '__module__'"
          ]
        }
      ]
    },
    {
      "cell_type": "markdown",
      "source": [
        "# Data Visualization\n"
      ],
      "metadata": {
        "id": "3TU30_stpNaI"
      }
    },
    {
      "cell_type": "code",
      "source": [
        "print(len(trainData))"
      ],
      "metadata": {
        "id": "10C60XK0l6Ee"
      },
      "execution_count": null,
      "outputs": []
    },
    {
      "cell_type": "code",
      "source": [
        "def deNormalize(image, mean, std):\n",
        "    mean = torch.tensor(mean).view(3, 1, 1)\n",
        "    std = torch.tensor(std).view(3, 1, 1)\n",
        "    return image * std + mean"
      ],
      "metadata": {
        "id": "x83cgIrWA9xs"
      },
      "execution_count": null,
      "outputs": []
    },
    {
      "cell_type": "code",
      "source": [
        "import random\n",
        "\n",
        "fig, axes = plt.subplots(4, 4, figsize=(12, 6))\n",
        "axes = axes.flatten()\n",
        "random.seed(123)\n",
        "random_indices = random.sample(range(len(trainData)), 16)\n",
        "\n",
        "for i, index in enumerate(random_indices):\n",
        "    image, label = trainData[index]\n",
        "    image = deNormalize(image, mean_rgb, std_rgb)\n",
        "    image = torch.clamp(image, 0, 1)\n",
        "    image = image.permute(1, 2, 0)\n",
        "\n",
        "    axes[i].imshow(image)\n",
        "\n",
        "    axes[i].set_title(f\"Label: {label}\\nShape: {image.shape}\")\n",
        "    axes[i].axis(\"off\")\n",
        "\n",
        "\n",
        "plt.tight_layout()\n",
        "plt.show()\n"
      ],
      "metadata": {
        "id": "03Qs7WxehBQe"
      },
      "execution_count": null,
      "outputs": []
    },
    {
      "cell_type": "code",
      "source": [
        "# Load the CSV file\n",
        "df = pd.read_csv(baseDir + 'trainLabels.csv')\n",
        "labels = df['Class']\n",
        "\n",
        "\n",
        "# Plot the frequencies\n",
        "plt.figure(figsize=(20, 6))\n",
        "plt.hist(labels, bins = len(set(labels)),color='navy', edgecolor='black')\n",
        "plt.xlabel('Class Labels')\n",
        "plt.ylabel('Frequency')\n",
        "plt.title('Class Frequency Distribution')\n",
        "plt.xticks(rotation=45, ha='right')  # Rotate labels for better readability\n",
        "plt.show()"
      ],
      "metadata": {
        "id": "C7NVt2RwpUXT"
      },
      "execution_count": null,
      "outputs": []
    },
    {
      "cell_type": "markdown",
      "source": [
        "# Model"
      ],
      "metadata": {
        "id": "FJEZXNOk8twv"
      }
    },
    {
      "cell_type": "code",
      "source": [
        "def createNet():\n",
        "    class Net(nn.Module):\n",
        "        def __init__(self):\n",
        "            super().__init__()\n",
        "\n",
        "            ### Feature Maps\n",
        "            kernalSize = [3, 3]\n",
        "            self.conv1 = nn.Conv2d(3, 64, kernalSize, padding=1)\n",
        "            self.batchNorm1 = nn.BatchNorm2d(64)\n",
        "            outSize = (imgSize + 2 * self.conv1.padding[0] - kernalSize[0] + 1) // 2\n",
        "\n",
        "            self.conv2 = nn.Conv2d(64, 128, kernalSize, padding=1)\n",
        "            self.batchNorm2 = nn.BatchNorm2d(128)\n",
        "            outSize = (outSize + 2 * self.conv2.padding[0] - kernalSize[0] + 1) // 2\n",
        "\n",
        "            self.conv3 = nn.Conv2d(128, 256, kernalSize, padding=1)\n",
        "            self.batchNorm3 = nn.BatchNorm2d(256)\n",
        "            outSize = (outSize + 2 * self.conv3.padding[0] - kernalSize[0] + 1) // 2\n",
        "\n",
        "            self.conv4 = nn.Conv2d(256, 512, kernalSize, padding=1)\n",
        "            self.batchNorm4 = nn.BatchNorm2d(512)\n",
        "            outSize = (outSize + 2 * self.conv4.padding[0] - kernalSize[0] + 1) // 2\n",
        "\n",
        "            self.conv5 = nn.Conv2d(512, 1024, kernalSize, padding=1)\n",
        "            self.batchNorm5 = nn.BatchNorm2d(1024)\n",
        "            outSize = (outSize + 2 * self.conv5.padding[0] - kernalSize[0] + 1) // 2\n",
        "\n",
        "\n",
        "\n",
        "            ### Linear Layers\n",
        "\n",
        "            self.fc1 = nn.Linear(outSize * outSize * self.conv5.out_channels, 1024)\n",
        "            self.fc2 = nn.Linear(1024, 512)\n",
        "            self.fc3 = nn.Linear(512, 256)\n",
        "            self.fc4 = nn.Linear(256, 62)\n",
        "\n",
        "        def forward(self, x):\n",
        "            ### Convulation Operations\n",
        "            x = F.max_pool2d(self.conv1(x), 2)\n",
        "            x = F.relu(self.batchNorm1(x))\n",
        "\n",
        "            x = F.max_pool2d(self.conv2(x), 2)\n",
        "            x = F.relu(self.batchNorm2(x))\n",
        "\n",
        "            x = F.max_pool2d(self.conv3(x), 2)\n",
        "            x = F.relu(self.batchNorm3(x))\n",
        "\n",
        "            x = F.max_pool2d(self.conv4(x), 2)\n",
        "            x = F.relu(self.batchNorm4(x))\n",
        "\n",
        "            x = F.max_pool2d(self.conv5(x), 2)\n",
        "            x = F.relu(self.batchNorm5(x))\n",
        "\n",
        "\n",
        "            ### Linear Layers\n",
        "            x = x.reshape(x.shape[0], -1)\n",
        "\n",
        "            x = F.relu(self.fc1(x))\n",
        "            x = F.dropout(x, p=0.1, training=self.training)\n",
        "\n",
        "            x = F.relu(self.fc2(x))\n",
        "            x = F.dropout(x, p=0.1, training=self.training)\n",
        "\n",
        "            x = F.relu(self.fc3(x))\n",
        "            x = F.dropout(x, p=0.1, training=self.training)\n",
        "\n",
        "            x = self.fc4(x)\n",
        "\n",
        "            return x\n",
        "\n",
        "    net = Net()\n",
        "    lossFun = nn.CrossEntropyLoss()\n",
        "    optimizer = torch.optim.Adam(net.parameters(), lr=0.001)\n",
        "    return net, lossFun, optimizer\n"
      ],
      "metadata": {
        "id": "YzvKzFcg8zN6"
      },
      "execution_count": null,
      "outputs": []
    },
    {
      "cell_type": "code",
      "source": [
        "net, lossFun, optimizer = createNet()\n",
        "net = net.to(device)\n",
        "summary(net, (3, 32, 32))"
      ],
      "metadata": {
        "id": "mcbMdiLjR64D"
      },
      "execution_count": null,
      "outputs": []
    },
    {
      "cell_type": "markdown",
      "source": [
        "# Test"
      ],
      "metadata": {
        "id": "2uUke3k-VTkT"
      }
    },
    {
      "cell_type": "code",
      "source": [
        "def testNet(net, lossFun, optimizer, testLoader):\n",
        "    net.eval()\n",
        "    matches = 0\n",
        "    for data, labels in testLoader:\n",
        "        # print(labels)\n",
        "        if device != 'cpu':\n",
        "            data = data.to(device)\n",
        "            labels = labels.to(device)\n",
        "        with torch.no_grad():\n",
        "            pred = net(data)\n",
        "        if device != 'cpu':\n",
        "            labels = labels.to(device)\n",
        "            pred = pred.to(device)\n",
        "        # print(pred)\n",
        "        pred = torch.argmax(pred, axis=1)\n",
        "        matches += (pred == labels).sum().item()\n",
        "    # print(matches)\n",
        "    acc = 100 * matches / len(testLoader.dataset)\n",
        "\n",
        "    return acc"
      ],
      "metadata": {
        "id": "N_VCBZSDVWKI"
      },
      "execution_count": null,
      "outputs": []
    },
    {
      "cell_type": "code",
      "source": [
        "testNet(net, lossFun, optimizer, testLoader)"
      ],
      "metadata": {
        "id": "DafFXchBkCRa"
      },
      "execution_count": null,
      "outputs": []
    },
    {
      "cell_type": "markdown",
      "source": [
        "# Train"
      ],
      "metadata": {
        "id": "sDOMq1XEU8Rm"
      }
    },
    {
      "cell_type": "code",
      "source": [
        "def trainNet(net, lossFun, optimizer, trainLoader):\n",
        "    epochs = 30\n",
        "\n",
        "    timeStart = time.process_time()\n",
        "    timeNow = timeStart\n",
        "\n",
        "    trainAcc = []\n",
        "    trainLoss = []\n",
        "    testAcc = []\n",
        "\n",
        "    for epoch in range(epochs):\n",
        "\n",
        "        net.train()\n",
        "\n",
        "        batchAcc = []\n",
        "        batchLoss = []\n",
        "\n",
        "        for data, labels in trainLoader:\n",
        "\n",
        "            if device != \"cpu\":\n",
        "                data = data.to(device)\n",
        "                labels = labels.to(device)\n",
        "\n",
        "            ## Calculate forward pass and loss\n",
        "            pred = net(data)\n",
        "            loss = lossFun(pred, labels)\n",
        "\n",
        "            ## backpropagation\n",
        "            optimizer.zero_grad()\n",
        "            loss.backward()\n",
        "            optimizer.step()\n",
        "\n",
        "            ## accurecy and loss\n",
        "            pred = pred.cpu()\n",
        "            labels = labels.cpu()\n",
        "            matches = (torch.argmax(pred, axis=1) == labels).float()\n",
        "            acc = 100 * torch.mean(matches)\n",
        "\n",
        "            batchAcc.append(acc)\n",
        "            batchLoss.append(loss.item())\n",
        "            # print(acc, epoch)\n",
        "\n",
        "        trainAcc.append(np.mean(batchAcc))\n",
        "        trainLoss.append(np.mean(batchLoss))\n",
        "\n",
        "        testAcc.append(testNet(net, lossFun, optimizer, testLoader))\n",
        "\n",
        "        timeTaken = time.process_time() - timeNow\n",
        "        elapsedTime = time.process_time() - timeStart\n",
        "        timeNow = time.process_time()\n",
        "\n",
        "        print(f\"Epoch {epoch+1}/{epochs}, time taken: {timeTaken:.2f}, Lelapsed time: {elapsedTime:.2f} sec, test accuracy {testAcc[-1]:.4f}%\")\n",
        "\n",
        "    return trainAcc, testAcc, trainLoss\n"
      ],
      "metadata": {
        "id": "DqqAvR2pXoH5",
        "trusted": true,
        "execution": {
          "iopub.status.busy": "2025-04-01T16:23:55.978185Z",
          "iopub.execute_input": "2025-04-01T16:23:55.978384Z",
          "iopub.status.idle": "2025-04-01T16:23:55.998761Z",
          "shell.execute_reply.started": "2025-04-01T16:23:55.978367Z",
          "shell.execute_reply": "2025-04-01T16:23:55.998070Z"
        }
      },
      "outputs": [],
      "execution_count": null
    },
    {
      "cell_type": "markdown",
      "source": [
        "# Main\n"
      ],
      "metadata": {
        "id": "CWL_aIXwVoYg"
      }
    },
    {
      "cell_type": "code",
      "source": [
        "trainAcc, testAcc, trainLoss = trainNet(net, lossFun, optimizer, trainLoader)"
      ],
      "metadata": {
        "id": "vm0zHUpoWGCa"
      },
      "execution_count": null,
      "outputs": []
    },
    {
      "cell_type": "code",
      "source": [
        "fig, aa = plt.subplots(1, 2, figsize = (16, 5))\n",
        "\n",
        "aa[0].plot(trainLoss)\n",
        "aa[0].set_ylim(0, 100)\n",
        "\n",
        "aa[1].plot(trainAcc)\n",
        "aa[1].plot(testAcc)\n",
        "\n",
        "plt.show()"
      ],
      "metadata": {
        "id": "_fJ7U7U2rkIj"
      },
      "execution_count": null,
      "outputs": []
    },
    {
      "cell_type": "code",
      "source": [
        "# torch.save(net.state_dict(), baseDir + 'characterRecognition.pt')"
      ],
      "metadata": {
        "id": "wS1_4FiovAJv"
      },
      "execution_count": null,
      "outputs": []
    },
    {
      "cell_type": "code",
      "source": [
        "net = createNet()[0]\n",
        "net.load_state_dict(torch.load(baseDir + 'characterRecognition.pt', map_location=torch.device(device)))"
      ],
      "metadata": {
        "id": "eLQtmo35xlO1"
      },
      "execution_count": null,
      "outputs": []
    },
    {
      "cell_type": "code",
      "source": [
        "net.to(device)\n",
        "acc = testNet(net, lossFun, optimizer, testLoader)\n",
        "print(f'test accuracy {acc:.4f}%')"
      ],
      "metadata": {
        "id": "94E5KEV-xz8l"
      },
      "execution_count": null,
      "outputs": []
    },
    {
      "cell_type": "code",
      "source": [
        "class ImageDatasetTest(Dataset):\n",
        "    def __init__(self, imgDir, transform=None):\n",
        "        self.imgDir = imgDir\n",
        "        self.transform = transform\n",
        "        # Get a list of all image files in the dir\n",
        "        self.image_files = sorted(\n",
        "            [f for f in os.listdir(imgDir) if f.endswith(\".Bmp\")],\n",
        "            key=lambda x: int(os.path.splitext(x)[0])\n",
        "        )\n",
        "        # print(self.image_files)\n",
        "        # Load all images into memory using parallel processing\n",
        "        self.images = [None] * len(self.image_files)\n",
        "        with ThreadPoolExecutor() as executor:\n",
        "            executor.map(self.loadImage, range(len(self.image_files)))\n",
        "\n",
        "    def loadImage(self, idx):\n",
        "        imgPath = os.path.join(self.imgDir, self.image_files[idx])\n",
        "        image = Image.open(imgPath).convert(\"RGB\")\n",
        "        if self.transform:\n",
        "            image = self.transform(image)\n",
        "        self.images[idx] = image\n",
        "\n",
        "    def __len__(self):\n",
        "        return len(self.image_files)\n",
        "\n",
        "    def __getitem__(self, idx):\n",
        "        image = self.images[idx]\n",
        "        return image"
      ],
      "metadata": {
        "id": "uDctHmXH08AR"
      },
      "execution_count": null,
      "outputs": []
    },
    {
      "cell_type": "code",
      "source": [
        "# datasetTest = ImageDatasetTest(baseDir + 'test', transform)\n",
        "# torch.save(datasetTest, baseDir + 'charDatasetTest.pt')\n",
        "\n",
        "torch.serialization.add_safe_globals([ImageDatasetTest])\n",
        "datasetTest = torch.load(baseDir + 'charDatasetTest.pt')\n",
        "\n",
        "\n",
        "\n",
        "testLoader1 = DataLoader(datasetTest, batch_size=1024, shuffle=False)"
      ],
      "metadata": {
        "id": "LD__uYLFyZby"
      },
      "execution_count": null,
      "outputs": []
    },
    {
      "cell_type": "code",
      "source": [
        "datasetTest"
      ],
      "metadata": {
        "id": "XvgGnIwIxu7_"
      },
      "execution_count": null,
      "outputs": []
    },
    {
      "cell_type": "code",
      "source": [
        "net.eval()\n",
        "pred = []\n",
        "with torch.no_grad():\n",
        "  for x in testLoader1:\n",
        "    x = x.to(device)\n",
        "    pred.append(net(x).cpu())\n",
        "pred1 = pred"
      ],
      "metadata": {
        "id": "CEF6t3M43UIJ"
      },
      "execution_count": null,
      "outputs": []
    },
    {
      "cell_type": "code",
      "source": [
        "pred = pred1\n",
        "pred = [torch.argmax(t, axis = 1) for t in pred]\n",
        "pred = torch.cat(pred)\n",
        "pred.shape"
      ],
      "metadata": {
        "id": "tShEKPXK4AFP"
      },
      "execution_count": null,
      "outputs": []
    },
    {
      "cell_type": "code",
      "source": [
        "alphabet = \"0123456789ABCDEFGHIJKLMNOPQRSTUVWXYZabcdefghijklmnopqrstuvwxyz\"\n",
        "pred = [alphabet[val] for val in pred.tolist()]"
      ],
      "metadata": {
        "id": "Xl4RkF_a64x2"
      },
      "execution_count": null,
      "outputs": []
    },
    {
      "cell_type": "code",
      "source": [
        "df = pd.DataFrame(pred, columns=['Class'])\n",
        "df.index = np.arange(6284, len(df) + 6284)\n",
        "df.index.name = 'ID'\n",
        "df.head()"
      ],
      "metadata": {
        "id": "NvgZD5rC4Cl-"
      },
      "execution_count": null,
      "outputs": []
    },
    {
      "cell_type": "code",
      "source": [
        "df.to_csv(baseDir + 'pred0.csv', index = True)"
      ],
      "metadata": {
        "id": "bHzM67P8txiv"
      },
      "execution_count": null,
      "outputs": []
    },
    {
      "cell_type": "code",
      "source": [
        "fig, axes = plt.subplots(4, 4, figsize=(12, 6))\n",
        "axes = axes.flatten()\n",
        "random.seed(3423)\n",
        "random_indices = random.sample(range(len(datasetTest)), 16)\n",
        "\n",
        "for i, index in enumerate(random_indices):\n",
        "    image = datasetTest[index]\n",
        "    label = df.iloc[index, 0]\n",
        "    image = deNormalize(image, mean_rgb, std_rgb)\n",
        "    image = torch.clamp(image, 0, 1)\n",
        "    image = image.permute(1, 2, 0)\n",
        "    axes[i].imshow(image)\n",
        "\n",
        "    axes[i].set_title(f\"Label: {label}\\nShape: {image.shape}\")\n",
        "    axes[i].axis(\"off\")\n",
        "\n",
        "\n",
        "plt.tight_layout()\n",
        "plt.show()"
      ],
      "metadata": {
        "id": "5Iu5J-Yw8IVC"
      },
      "execution_count": null,
      "outputs": []
    }
  ]
}