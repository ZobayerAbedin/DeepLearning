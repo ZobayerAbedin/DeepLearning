{
  "nbformat": 4,
  "nbformat_minor": 0,
  "metadata": {
    "colab": {
      "provenance": [],
      "authorship_tag": "ABX9TyPF+JNauVkQcIctSohhd9Fb",
      "include_colab_link": true
    },
    "kernelspec": {
      "name": "python3",
      "display_name": "Python 3"
    },
    "language_info": {
      "name": "python"
    }
  },
  "cells": [
    {
      "cell_type": "markdown",
      "metadata": {
        "id": "view-in-github",
        "colab_type": "text"
      },
      "source": [
        "<a href=\"https://colab.research.google.com/github/ZobayerAbedin/DeepLearning/blob/main/character_recognition.ipynb\" target=\"_parent\"><img src=\"https://colab.research.google.com/assets/colab-badge.svg\" alt=\"Open In Colab\"/></a>"
      ]
    },
    {
      "cell_type": "code",
      "execution_count": 45,
      "metadata": {
        "colab": {
          "base_uri": "https://localhost:8080/"
        },
        "id": "pKVLrretVqam",
        "outputId": "720a0d54-2828-41e7-f1a1-5f57e0ccf45b"
      },
      "outputs": [
        {
          "output_type": "execute_result",
          "data": {
            "text/plain": [
              "device(type='cpu')"
            ]
          },
          "metadata": {},
          "execution_count": 45
        }
      ],
      "source": [
        "import numpy as np\n",
        "import pandas as pd\n",
        "\n",
        "import torch\n",
        "import torch.nn as nn\n",
        "import torch.nn.functional as F\n",
        "from torch.utils.data import DataLoader, TensorDataset\n",
        "from sklearn.model_selection import train_test_split\n",
        "\n",
        "import matplotlib.pyplot as plt\n",
        "import time\n",
        "from torchsummary import summary\n",
        "\n",
        "import os\n",
        "import zipfile\n",
        "\n",
        "device = torch.device('cuda' if torch.cuda.is_available() else 'cpu')\n",
        "device"
      ]
    },
    {
      "cell_type": "markdown",
      "source": [
        "# Data manupulation"
      ],
      "metadata": {
        "id": "u3j9VBIJb1cI"
      }
    },
    {
      "cell_type": "code",
      "source": [
        "from google.colab import drive\n",
        "drive.mount('/content/gdrive/')"
      ],
      "metadata": {
        "colab": {
          "base_uri": "https://localhost:8080/"
        },
        "id": "JiYOIwYEWP0-",
        "outputId": "a80ad216-10ae-4716-dee2-d0ffea8dc8b0"
      },
      "execution_count": 43,
      "outputs": [
        {
          "output_type": "stream",
          "name": "stdout",
          "text": [
            "Drive already mounted at /content/gdrive/; to attempt to forcibly remount, call drive.mount(\"/content/gdrive/\", force_remount=True).\n"
          ]
        }
      ]
    },
    {
      "cell_type": "code",
      "source": [
        "baseDir = '/content/gdrive/My Drive/Colab_Notebooks/Data/Char_Classification/'"
      ],
      "metadata": {
        "id": "EW3IXmTC3l4R"
      },
      "execution_count": 36,
      "outputs": []
    },
    {
      "cell_type": "code",
      "source": [
        "def dataExtraction(extractionDir, filePath):\n",
        "  # Create the target directory if it does not exist\n",
        "  if not os.path.exists(extractionDir):\n",
        "    os.makedirs(extractionDir)\n",
        "\n",
        "  try:\n",
        "    with zipfile.ZipFile(filePath, 'r') as zfile:\n",
        "        zfile.extractall(extractionDir)\n",
        "    print(f\"Extraction complete. Files have been extracted to: {extractionDir}\")\n",
        "\n",
        "  except zipfile.BadZipFile:\n",
        "    print(f\"Error: '{filePath}' is not a valid ZIP file or may be corrupted.\")\n",
        "\n",
        "  except FileNotFoundError:\n",
        "    print(f\"Error: The file '{filePath}' does not exist.\")"
      ],
      "metadata": {
        "id": "RfF2hG_gjBqX"
      },
      "execution_count": 50,
      "outputs": []
    },
    {
      "cell_type": "code",
      "source": [
        "dataExtraction(baseDir, baseDir + 'train.zip')\n",
        "dataExtraction(baseDir, baseDir + 'test.zip')"
      ],
      "metadata": {
        "colab": {
          "base_uri": "https://localhost:8080/"
        },
        "id": "rOhj0WQ_kh8l",
        "outputId": "c73fbbeb-dcfc-42ca-83a7-d2199c8b0b6c"
      },
      "execution_count": 51,
      "outputs": [
        {
          "output_type": "stream",
          "name": "stdout",
          "text": [
            "Extraction complete. Files have been extracted to: /content/gdrive/My Drive/Colab_Notebooks/Data/Char_Classification/\n",
            "Extraction complete. Files have been extracted to: /content/gdrive/My Drive/Colab_Notebooks/Data/Char_Classification/\n"
          ]
        }
      ]
    },
    {
      "cell_type": "code",
      "source": [
        "os.path.isdir(baseDir)"
      ],
      "metadata": {
        "colab": {
          "base_uri": "https://localhost:8080/"
        },
        "id": "ZZk_9mLbBMj6",
        "outputId": "30f01a14-2ec6-44d7-8803-4508fde4f665"
      },
      "execution_count": 52,
      "outputs": [
        {
          "output_type": "execute_result",
          "data": {
            "text/plain": [
              "True"
            ]
          },
          "metadata": {},
          "execution_count": 52
        }
      ]
    },
    {
      "cell_type": "code",
      "source": [],
      "metadata": {
        "id": "eqHqIHO7b5yo"
      },
      "execution_count": null,
      "outputs": []
    },
    {
      "cell_type": "code",
      "source": [],
      "metadata": {
        "id": "LAs5Zjbq9qkf"
      },
      "execution_count": null,
      "outputs": []
    }
  ]
}