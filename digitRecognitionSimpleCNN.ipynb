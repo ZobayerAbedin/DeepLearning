{
  "metadata": {
    "kernelspec": {
      "name": "python3",
      "display_name": "Python 3"
    },
    "language_info": {
      "name": "python",
      "version": "3.10.12",
      "mimetype": "text/x-python",
      "codemirror_mode": {
        "name": "ipython",
        "version": 3
      },
      "pygments_lexer": "ipython3",
      "nbconvert_exporter": "python",
      "file_extension": ".py"
    },
    "colab": {
      "provenance": [],
      "collapsed_sections": [
        "VA4jEjxhsrcY",
        "1Fy55unNPzjD",
        "14CXo0jbXlBO"
      ],
      "include_colab_link": true
    },
    "kaggle": {
      "accelerator": "gpu",
      "dataSources": [
        {
          "sourceId": 11241670,
          "sourceType": "datasetVersion",
          "datasetId": 7023598
        },
        {
          "sourceId": 316681,
          "sourceType": "modelInstanceVersion",
          "modelInstanceId": 267257,
          "modelId": 288315
        }
      ],
      "dockerImageVersionId": 30919,
      "isInternetEnabled": true,
      "language": "python",
      "sourceType": "notebook",
      "isGpuEnabled": true
    }
  },
  "nbformat_minor": 0,
  "nbformat": 4,
  "cells": [
    {
      "cell_type": "markdown",
      "metadata": {
        "id": "view-in-github",
        "colab_type": "text"
      },
      "source": [
        "<a href=\"https://colab.research.google.com/github/ZobayerAbedin/DeepLearning/blob/main/digitRecognitionSimpleCNN.ipynb\" target=\"_parent\"><img src=\"https://colab.research.google.com/assets/colab-badge.svg\" alt=\"Open In Colab\"/></a>"
      ]
    },
    {
      "cell_type": "code",
      "source": [
        "import numpy as np\n",
        "import pandas as pd\n",
        "\n",
        "import torch\n",
        "import torch.nn as nn\n",
        "import torch.nn.functional as F\n",
        "from torch.utils.data import DataLoader, TensorDataset\n",
        "from sklearn.model_selection import train_test_split\n",
        "\n",
        "import matplotlib.pyplot as plt\n",
        "import time\n",
        "from torchsummary import summary\n",
        "\n",
        "\n",
        "device = torch.device('cuda' if torch.cuda.is_available() else 'cpu')\n",
        "device"
      ],
      "metadata": {
        "colab": {
          "base_uri": "https://localhost:8080/"
        },
        "id": "Ku9jSxDwk2HH",
        "outputId": "49d3fc84-d60b-4311-a92c-ecdd5c5cfba0",
        "trusted": true,
        "execution": {
          "iopub.execute_input": "2025-04-01T16:23:45.136613Z",
          "iopub.status.idle": "2025-04-01T16:23:49.794239Z",
          "shell.execute_reply.started": "2025-04-01T16:23:45.136588Z",
          "shell.execute_reply": "2025-04-01T16:23:49.793457Z"
        }
      },
      "outputs": [
        {
          "output_type": "execute_result",
          "data": {
            "text/plain": [
              "device(type='cpu')"
            ]
          },
          "metadata": {},
          "execution_count": 1
        }
      ],
      "execution_count": 1
    },
    {
      "cell_type": "markdown",
      "source": [
        "# Data Manipulation"
      ],
      "metadata": {
        "id": "2tRYhBrOlYrm"
      }
    },
    {
      "cell_type": "code",
      "source": [
        "from google.colab import drive\n",
        "drive.mount('/content/gdrive')"
      ],
      "metadata": {
        "colab": {
          "base_uri": "https://localhost:8080/"
        },
        "id": "-1-Pi4dzlkS5",
        "outputId": "9639d56c-ad0f-4bd8-9457-9995f63d0888",
        "trusted": true,
        "execution": {
          "iopub.status.busy": "2025-04-01T16:23:49.795031Z",
          "iopub.execute_input": "2025-04-01T16:23:49.795457Z",
          "iopub.status.idle": "2025-04-01T16:23:49.799107Z",
          "shell.execute_reply.started": "2025-04-01T16:23:49.795426Z",
          "shell.execute_reply": "2025-04-01T16:23:49.798079Z"
        }
      },
      "outputs": [
        {
          "output_type": "stream",
          "name": "stdout",
          "text": [
            "Drive already mounted at /content/gdrive; to attempt to forcibly remount, call drive.mount(\"/content/gdrive\", force_remount=True).\n"
          ]
        }
      ],
      "execution_count": 2
    },
    {
      "cell_type": "code",
      "source": [
        "path = ['/content/gdrive/My Drive/Colab Notebooks/Data/digit-recognizer/train.csv',\n",
        "        '/kaggle/input/digit-recognizer/train.csv']\n",
        "df = pd.read_csv(path[0])\n",
        "\n",
        "\n",
        "data = df.to_numpy()\n",
        "\n",
        "labels = data[:, 0]\n",
        "data = data[:, 1:]\n",
        "\n",
        "dataNorm = data / np.max(data)\n",
        "dataNorm = dataNorm.reshape(dataNorm.shape[0], 1, 28, 28)\n",
        "imgSize = 28"
      ],
      "metadata": {
        "id": "f2ej5IXpmmcH",
        "trusted": true,
        "execution": {
          "iopub.status.busy": "2025-04-01T16:23:49.800085Z",
          "iopub.execute_input": "2025-04-01T16:23:49.800379Z",
          "iopub.status.idle": "2025-04-01T16:23:52.658013Z",
          "shell.execute_reply.started": "2025-04-01T16:23:49.800344Z",
          "shell.execute_reply": "2025-04-01T16:23:52.657237Z"
        }
      },
      "outputs": [],
      "execution_count": 3
    },
    {
      "cell_type": "code",
      "source": [],
      "metadata": {
        "id": "jT0YOQEe7nKw",
        "trusted": true
      },
      "outputs": [],
      "execution_count": 3
    },
    {
      "cell_type": "code",
      "source": [
        "## converting to tensor\n",
        "dataT = torch.tensor(dataNorm).float()\n",
        "labelsT = torch.tensor(labels).long()\n",
        "\n",
        "trainDataT, testDataT, trainLabelsT, testLabelsT = train_test_split(dataT, labelsT, test_size = 0.1, random_state = 37)\n",
        "\n",
        "## converting to tensor dataset\n",
        "trainData = TensorDataset(trainDataT, trainLabelsT)\n",
        "testData = TensorDataset(testDataT, testLabelsT)\n",
        "\n",
        "## convert to data loader\n",
        "batchSize = 16\n",
        "trainLoader = DataLoader(trainData, batch_size = batchSize, shuffle = True, drop_last = True)\n",
        "testLoader = DataLoader(testData, batch_size = len(testData), shuffle = True)\n"
      ],
      "metadata": {
        "id": "cQzvw0NCnzDk",
        "trusted": true,
        "execution": {
          "iopub.status.busy": "2025-04-01T16:23:52.658816Z",
          "iopub.execute_input": "2025-04-01T16:23:52.659048Z",
          "iopub.status.idle": "2025-04-01T16:23:53.213041Z",
          "shell.execute_reply.started": "2025-04-01T16:23:52.659028Z",
          "shell.execute_reply": "2025-04-01T16:23:53.212342Z"
        }
      },
      "outputs": [],
      "execution_count": 4
    },
    {
      "cell_type": "markdown",
      "source": [
        "# Model\n"
      ],
      "metadata": {
        "id": "VA4jEjxhsrcY"
      }
    },
    {
      "cell_type": "code",
      "source": [
        "def createCNNNet():\n",
        "  class CNNNet(nn.Module):\n",
        "    def __init__(self):\n",
        "      super().__init__()\n",
        "\n",
        "      ### Feature Maps\n",
        "      kernalSize = [3, 3]\n",
        "\n",
        "      self.conv1 = nn.Conv2d(1, 64, kernalSize, padding = 1)\n",
        "      self.batchNorm1 = nn.BatchNorm2d(64)\n",
        "      outSize = (imgSize + 2 * self.conv1.padding[0] - kernalSize[0] + 1) // 2\n",
        "\n",
        "      self.conv2 = nn.Conv2d(64, 128, kernalSize, padding = 1)\n",
        "      self.batchNorm2 = nn.BatchNorm2d(128)\n",
        "      outSize = (outSize + 2 * self.conv2.padding[0] - kernalSize[0] + 1) // 2\n",
        "\n",
        "      self.conv3 = nn.Conv2d(128, 256, kernalSize, padding = 1)\n",
        "      self.batchNorm3 = nn.BatchNorm2d(256)\n",
        "      outSize = (outSize + 2 * self.conv3.padding[0] - kernalSize[0] + 1) // 2\n",
        "\n",
        "      self.conv4 = nn.Conv2d(256, 512, kernalSize, padding = 1)\n",
        "      self.batchNorm4 = nn.BatchNorm2d(512)\n",
        "      outSize = (outSize + 2 * self.conv4.padding[0] - kernalSize[0] + 1) // 2\n",
        "\n",
        "      ### Linear Layers\n",
        "\n",
        "      self.fc1 = nn.Linear(outSize * outSize * self.conv4.out_channels, 512)\n",
        "      self.fc2 = nn.Linear(512, 256)\n",
        "      self.fc3 = nn.Linear(256, 128)\n",
        "      self.fc4 = nn.Linear(128, 64)\n",
        "      self.fc5 = nn.Linear(64, 10)\n",
        "\n",
        "\n",
        "\n",
        "    def forward(self, x):\n",
        "\n",
        "      ### Convulation Operations\n",
        "      x = F.max_pool2d(self.conv1(x), 2)\n",
        "      x = F.relu(self.batchNorm1(x))\n",
        "\n",
        "      x = F.max_pool2d(self.conv2(x), 2)\n",
        "      x = F.relu(self.batchNorm2(x))\n",
        "\n",
        "      x = F.max_pool2d(self.conv3(x), 2)\n",
        "      x = F.relu(self.batchNorm3(x))\n",
        "\n",
        "      x = F.max_pool2d(self.conv4(x), 2)\n",
        "      x = F.relu(self.batchNorm4(x))\n",
        "\n",
        "\n",
        "      ### Linear Layers\n",
        "      x = x.reshape(x.shape[0],-1)\n",
        "\n",
        "      x = F.leaky_relu(self.fc1(x))\n",
        "      x = F.dropout(x, p = 0.1, training = self.training)\n",
        "\n",
        "      x = F.leaky_relu(self.fc2(x))\n",
        "      x = F.dropout(x, p = 0.1, training = self.training)\n",
        "\n",
        "      x = F.leaky_relu(self.fc3(x))\n",
        "      x = F.dropout(x, p = 0.1, training = self.training)\n",
        "\n",
        "      x = F.leaky_relu(self.fc4(x))\n",
        "      x = F.dropout(x, p = 0.1, training = self.training)\n",
        "\n",
        "\n",
        "      x = self.fc5(x)\n",
        "\n",
        "      return x\n",
        "\n",
        "  net = CNNNet()\n",
        "\n",
        "  lossFun = nn.CrossEntropyLoss()\n",
        "\n",
        "  optimizer = torch.optim.Adam(net.parameters(), lr = 0.001)\n",
        "\n",
        "\n",
        "  return net, lossFun, optimizer\n",
        "\n"
      ],
      "metadata": {
        "id": "AUeldhmWsvSd",
        "trusted": true,
        "execution": {
          "iopub.status.busy": "2025-04-01T16:23:53.214562Z",
          "iopub.execute_input": "2025-04-01T16:23:53.214845Z",
          "iopub.status.idle": "2025-04-01T16:23:53.224984Z",
          "shell.execute_reply.started": "2025-04-01T16:23:53.214814Z",
          "shell.execute_reply": "2025-04-01T16:23:53.224182Z"
        }
      },
      "outputs": [],
      "execution_count": 5
    },
    {
      "cell_type": "code",
      "source": [
        "net, lossFun, optimizer = createCNNNet()\n",
        "net = net.to(device)\n",
        "summary(net, (1, 28, 28))"
      ],
      "metadata": {
        "colab": {
          "base_uri": "https://localhost:8080/"
        },
        "id": "LzE5c_GqHkTj",
        "outputId": "34c6c340-60d9-40cd-8721-832db073a4ef",
        "trusted": true,
        "execution": {
          "iopub.status.busy": "2025-04-01T16:23:53.226003Z",
          "iopub.execute_input": "2025-04-01T16:23:53.226258Z",
          "iopub.status.idle": "2025-04-01T16:23:55.897074Z",
          "shell.execute_reply.started": "2025-04-01T16:23:53.226238Z",
          "shell.execute_reply": "2025-04-01T16:23:55.896221Z"
        }
      },
      "outputs": [
        {
          "output_type": "stream",
          "name": "stdout",
          "text": [
            "----------------------------------------------------------------\n",
            "        Layer (type)               Output Shape         Param #\n",
            "================================================================\n",
            "            Conv2d-1           [-1, 64, 28, 28]             640\n",
            "       BatchNorm2d-2           [-1, 64, 14, 14]             128\n",
            "            Conv2d-3          [-1, 128, 14, 14]          73,856\n",
            "       BatchNorm2d-4            [-1, 128, 7, 7]             256\n",
            "            Conv2d-5            [-1, 256, 7, 7]         295,168\n",
            "       BatchNorm2d-6            [-1, 256, 3, 3]             512\n",
            "            Conv2d-7            [-1, 512, 3, 3]       1,180,160\n",
            "       BatchNorm2d-8            [-1, 512, 1, 1]           1,024\n",
            "            Linear-9                  [-1, 512]         262,656\n",
            "           Linear-10                  [-1, 256]         131,328\n",
            "           Linear-11                  [-1, 128]          32,896\n",
            "           Linear-12                   [-1, 64]           8,256\n",
            "           Linear-13                   [-1, 10]             650\n",
            "================================================================\n",
            "Total params: 1,987,530\n",
            "Trainable params: 1,987,530\n",
            "Non-trainable params: 0\n",
            "----------------------------------------------------------------\n",
            "Input size (MB): 0.00\n",
            "Forward/backward pass size (MB): 0.88\n",
            "Params size (MB): 7.58\n",
            "Estimated Total Size (MB): 8.46\n",
            "----------------------------------------------------------------\n"
          ]
        }
      ],
      "execution_count": 6
    },
    {
      "cell_type": "code",
      "source": [
        "data = trainLoader.dataset.tensors[0][0:16]\n",
        "labels = trainLoader.dataset.tensors[1]\n",
        "\n",
        "\n",
        "print(data.shape)\n",
        "# pred = net(data)"
      ],
      "metadata": {
        "colab": {
          "base_uri": "https://localhost:8080/"
        },
        "id": "RrVLjZAR8qqU",
        "outputId": "91c2acf0-78e8-4b0d-8cac-1deea088460a",
        "trusted": true,
        "execution": {
          "iopub.status.busy": "2025-04-01T16:23:55.897935Z",
          "iopub.execute_input": "2025-04-01T16:23:55.898335Z",
          "iopub.status.idle": "2025-04-01T16:23:55.905440Z",
          "shell.execute_reply.started": "2025-04-01T16:23:55.898311Z",
          "shell.execute_reply": "2025-04-01T16:23:55.904543Z"
        }
      },
      "outputs": [
        {
          "output_type": "stream",
          "name": "stdout",
          "text": [
            "torch.Size([16, 1, 28, 28])\n"
          ]
        }
      ],
      "execution_count": 7
    },
    {
      "cell_type": "markdown",
      "source": [
        "# Test\n"
      ],
      "metadata": {
        "id": "1Fy55unNPzjD"
      }
    },
    {
      "cell_type": "code",
      "source": [
        "def testNet(net, lossFun, optimizer, testLoader):\n",
        "  data = testLoader.dataset.tensors[0]\n",
        "  labels = testLoader.dataset.tensors[1]\n",
        "  net.eval()\n",
        "\n",
        "  if device != 'cpu':\n",
        "    data = data.to(device)\n",
        "    labels = labels.to(device)\n",
        "\n",
        "  with torch.no_grad():\n",
        "    pred = net(data)\n",
        "\n",
        "  if device != 'cpu':\n",
        "    labels = labels.cpu()\n",
        "    pred = pred.cpu()\n",
        "\n",
        "  matches = (torch.argmax(pred, axis = 1) == labels).float()\n",
        "  acc = 100 * torch.mean(matches)\n",
        "\n",
        "  return acc\n"
      ],
      "metadata": {
        "id": "XRo4unKRWon3",
        "trusted": true,
        "execution": {
          "iopub.status.busy": "2025-04-01T16:23:55.906239Z",
          "iopub.execute_input": "2025-04-01T16:23:55.906516Z",
          "iopub.status.idle": "2025-04-01T16:23:55.977403Z",
          "shell.execute_reply.started": "2025-04-01T16:23:55.906484Z",
          "shell.execute_reply": "2025-04-01T16:23:55.976647Z"
        }
      },
      "outputs": [],
      "execution_count": 8
    },
    {
      "cell_type": "markdown",
      "source": [
        "# Train"
      ],
      "metadata": {
        "id": "14CXo0jbXlBO"
      }
    },
    {
      "cell_type": "code",
      "source": [
        "def trainNet(net, lossFun, optimizer, trainLoader):\n",
        "  epochs = 30\n",
        "\n",
        "  timeStart = time.process_time()\n",
        "  timeNow = timeStart\n",
        "\n",
        "  trainAcc = []\n",
        "  trainLoss = []\n",
        "  testAcc = []\n",
        "\n",
        "  for epoch in range(epochs):\n",
        "\n",
        "    net.train()\n",
        "\n",
        "    batchAcc = []\n",
        "    batchLoss = []\n",
        "\n",
        "    for data, labels in trainLoader:\n",
        "\n",
        "      if device != 'cpu':\n",
        "        data = data.to(device)\n",
        "        labels = labels.to(device)\n",
        "\n",
        "      ## Calculate forward pass and loss\n",
        "      pred = net(data)\n",
        "      loss = lossFun(pred, labels)\n",
        "\n",
        "      ## backpropagation\n",
        "      optimizer.zero_grad()\n",
        "      loss.backward()\n",
        "      optimizer.step()\n",
        "\n",
        "      ## accurecy and loss\n",
        "      pred = pred.cpu()\n",
        "      labels = labels.cpu()\n",
        "      matches = (torch.argmax(pred, axis = 1) == labels).float()\n",
        "      acc = 100 * torch.mean(matches)\n",
        "\n",
        "      batchAcc.append(acc)\n",
        "      batchLoss.append(loss.item())\n",
        "\n",
        "    trainAcc.append(np.mean(batchAcc))\n",
        "    trainLoss.append(np.mean(batchLoss))\n",
        "\n",
        "    testAcc.append(testNet(net, lossFun, optimizer, testLoader))\n",
        "\n",
        "    timeTaken = time.process_time() - timeNow\n",
        "    elapsedTime = time.process_time() - timeStart\n",
        "    timeNow = time.process_time()\n",
        "\n",
        "    print(f'Epoch {epoch+1}/{epochs}, time taken: {timeTaken:.2f}, Lelapsed time: {elapsedTime:.2f} sec, test accuracy {testAcc[-1]:.4f}%')\n",
        "\n",
        "  return trainAcc, testAcc, trainLoss\n"
      ],
      "metadata": {
        "id": "DqqAvR2pXoH5",
        "trusted": true,
        "execution": {
          "iopub.status.busy": "2025-04-01T16:23:55.978185Z",
          "iopub.execute_input": "2025-04-01T16:23:55.978384Z",
          "iopub.status.idle": "2025-04-01T16:23:55.998761Z",
          "shell.execute_reply.started": "2025-04-01T16:23:55.978367Z",
          "shell.execute_reply": "2025-04-01T16:23:55.998070Z"
        }
      },
      "outputs": [],
      "execution_count": 9
    },
    {
      "cell_type": "code",
      "source": [],
      "metadata": {
        "id": "FsfevxCquT0r",
        "trusted": true
      },
      "outputs": [],
      "execution_count": 9
    },
    {
      "cell_type": "markdown",
      "source": [
        "# main"
      ],
      "metadata": {
        "id": "S8xa79ocuZfA"
      }
    },
    {
      "cell_type": "code",
      "source": [
        "trainAcc, testAcc, trainLoss = trainNet(net, lossFun, optimizer, trainLoader)"
      ],
      "metadata": {
        "id": "ymUhAKNwujnt",
        "trusted": true,
        "execution": {
          "iopub.status.busy": "2025-04-01T16:23:55.999545Z",
          "iopub.execute_input": "2025-04-01T16:23:55.999867Z",
          "iopub.status.idle": "2025-04-01T16:23:56.014469Z",
          "shell.execute_reply.started": "2025-04-01T16:23:55.999834Z",
          "shell.execute_reply": "2025-04-01T16:23:56.013844Z"
        }
      },
      "outputs": [],
      "execution_count": 10
    },
    {
      "cell_type": "code",
      "source": [
        "fig, aa = plt.subplots(1, 2, figsize = (16, 5))\n",
        "\n",
        "aa[0].plot(trainLoss)\n",
        "aa[0].set_ylim(0, 100)\n",
        "\n",
        "aa[1].plot(trainAcc)\n",
        "aa[1].plot(testAcc)\n",
        "\n",
        "plt.show()"
      ],
      "metadata": {
        "id": "NlK5iZN6xA5Y",
        "trusted": true,
        "execution": {
          "iopub.status.busy": "2025-04-01T16:23:56.015269Z",
          "iopub.execute_input": "2025-04-01T16:23:56.015616Z",
          "iopub.status.idle": "2025-04-01T16:23:56.029705Z",
          "shell.execute_reply.started": "2025-04-01T16:23:56.015588Z",
          "shell.execute_reply": "2025-04-01T16:23:56.029047Z"
        }
      },
      "outputs": [],
      "execution_count": 11
    },
    {
      "cell_type": "code",
      "source": [
        "# path = ['/content/gdrive/My Drive/Colab Notebooks/Data/digit-recognizer/digitRecognizerSimpleCNN.pt',\n",
        "#        '/kaggle/working/digitRecognizerSimpleCNN.pt']\n",
        "# torch.save(net.state_dict(), path[0])\n"
      ],
      "metadata": {
        "id": "twSrDfFpwwcV",
        "trusted": true,
        "execution": {
          "iopub.status.busy": "2025-04-01T16:23:56.030362Z",
          "iopub.execute_input": "2025-04-01T16:23:56.030622Z",
          "iopub.status.idle": "2025-04-01T16:23:56.044752Z",
          "shell.execute_reply.started": "2025-04-01T16:23:56.030594Z",
          "shell.execute_reply": "2025-04-01T16:23:56.043999Z"
        }
      },
      "outputs": [],
      "execution_count": 12
    },
    {
      "cell_type": "code",
      "source": [
        "net = createCNNNet()[0]\n",
        "path = ['/content/gdrive/My Drive/Colab Notebooks/Data/digit-recognizer/digitRecognizerSimpleCNN.pt',\n",
        "       '/kaggle/input/digit-recognizer-using-simple-cnn/pytorch/default/1/digitRecognizerSimpleCNN.pt']\n",
        "net.load_state_dict(torch.load(path[0], map_location=torch.device(device)))\n",
        "\n"
      ],
      "metadata": {
        "id": "WDoFFXUZXo3U",
        "trusted": true,
        "execution": {
          "iopub.status.busy": "2025-04-01T16:24:23.778621Z",
          "iopub.execute_input": "2025-04-01T16:24:23.778972Z",
          "iopub.status.idle": "2025-04-01T16:24:23.866821Z",
          "shell.execute_reply.started": "2025-04-01T16:24:23.778946Z",
          "shell.execute_reply": "2025-04-01T16:24:23.865937Z"
        },
        "colab": {
          "base_uri": "https://localhost:8080/"
        },
        "outputId": "b1fbf4aa-712a-4195-d71b-345fe7087802"
      },
      "outputs": [
        {
          "output_type": "execute_result",
          "data": {
            "text/plain": [
              "<All keys matched successfully>"
            ]
          },
          "metadata": {},
          "execution_count": 13
        }
      ],
      "execution_count": 13
    },
    {
      "cell_type": "code",
      "source": [
        "net.to(device)\n",
        "acc = testNet(net, lossFun, optimizer, testLoader)\n",
        "print(f'test accuracy {acc:.4f}%')"
      ],
      "metadata": {
        "colab": {
          "base_uri": "https://localhost:8080/"
        },
        "id": "xPxM6UWiakHB",
        "outputId": "bb2ad980-a4ea-4949-d09b-e285b6f5d47b",
        "trusted": true,
        "execution": {
          "iopub.status.busy": "2025-04-01T16:25:45.321055Z",
          "iopub.execute_input": "2025-04-01T16:25:45.321370Z",
          "iopub.status.idle": "2025-04-01T16:25:45.454980Z",
          "shell.execute_reply.started": "2025-04-01T16:25:45.321344Z",
          "shell.execute_reply": "2025-04-01T16:25:45.454102Z"
        }
      },
      "outputs": [
        {
          "output_type": "stream",
          "name": "stdout",
          "text": [
            "test accuracy 98.8810%\n"
          ]
        }
      ],
      "execution_count": 14
    },
    {
      "cell_type": "code",
      "source": [
        "path = ['/content/gdrive/My Drive/Colab Notebooks/Data/digit-recognizer/test.csv',\n",
        "        '/kaggle/input/digit-recognizer/test.csv']\n",
        "df = pd.read_csv(path[0])\n",
        "data = df.to_numpy()\n",
        "data = data / np.max(data)\n",
        "data = data.reshape(data.shape[0], 1, 28, 28)\n",
        "data = torch.tensor(data).float()"
      ],
      "metadata": {
        "id": "96l-vD5Ku11y",
        "trusted": true,
        "execution": {
          "iopub.status.busy": "2025-04-01T16:24:30.723078Z",
          "iopub.execute_input": "2025-04-01T16:24:30.723370Z",
          "iopub.status.idle": "2025-04-01T16:24:32.526509Z",
          "shell.execute_reply.started": "2025-04-01T16:24:30.723348Z",
          "shell.execute_reply": "2025-04-01T16:24:32.525844Z"
        }
      },
      "outputs": [],
      "execution_count": 15
    },
    {
      "cell_type": "code",
      "source": [],
      "metadata": {
        "trusted": true,
        "id": "OT2RT3DUMCQJ"
      },
      "outputs": [],
      "execution_count": 15
    },
    {
      "cell_type": "code",
      "source": [
        "testLoader1 = DataLoader(data, batch_size = 1024)\n",
        "net.eval()\n",
        "pred = []\n",
        "with torch.no_grad():\n",
        "  for x in testLoader1:\n",
        "    x = x.to(device)\n",
        "    pred.append(net(x).cpu())\n"
      ],
      "metadata": {
        "id": "h8LBSa9-VxPr",
        "trusted": true,
        "execution": {
          "iopub.status.busy": "2025-04-01T16:24:35.860357Z",
          "iopub.execute_input": "2025-04-01T16:24:35.860681Z",
          "iopub.status.idle": "2025-04-01T16:24:37.005452Z",
          "shell.execute_reply.started": "2025-04-01T16:24:35.860653Z",
          "shell.execute_reply": "2025-04-01T16:24:37.004745Z"
        }
      },
      "outputs": [],
      "execution_count": 16
    },
    {
      "cell_type": "code",
      "source": [
        "# print(testLoader1.dataset.shape)"
      ],
      "metadata": {
        "id": "iikK32ecfg2d",
        "trusted": true,
        "execution": {
          "iopub.status.busy": "2025-04-01T16:24:46.998709Z",
          "iopub.execute_input": "2025-04-01T16:24:46.999057Z",
          "iopub.status.idle": "2025-04-01T16:24:47.003711Z",
          "shell.execute_reply.started": "2025-04-01T16:24:46.999031Z",
          "shell.execute_reply": "2025-04-01T16:24:47.002679Z"
        }
      },
      "outputs": [],
      "execution_count": 17
    },
    {
      "cell_type": "code",
      "source": [
        "pred1 = pred"
      ],
      "metadata": {
        "id": "cnlq1FEMaxed",
        "trusted": true,
        "execution": {
          "iopub.status.busy": "2025-04-01T16:24:53.413958Z",
          "iopub.execute_input": "2025-04-01T16:24:53.414253Z",
          "iopub.status.idle": "2025-04-01T16:24:53.418038Z",
          "shell.execute_reply.started": "2025-04-01T16:24:53.414232Z",
          "shell.execute_reply": "2025-04-01T16:24:53.417070Z"
        }
      },
      "outputs": [],
      "execution_count": 20
    },
    {
      "cell_type": "code",
      "source": [
        "pred = pred1\n",
        "pred = [torch.argmax(t, axis = 1) for t in pred]\n",
        "pred = torch.cat(pred)\n",
        "pred.shape"
      ],
      "metadata": {
        "id": "G-gpkSO_a4IA",
        "trusted": true,
        "execution": {
          "iopub.status.busy": "2025-04-01T16:24:59.916539Z",
          "iopub.execute_input": "2025-04-01T16:24:59.916894Z",
          "iopub.status.idle": "2025-04-01T16:25:01.928326Z",
          "shell.execute_reply.started": "2025-04-01T16:24:59.916864Z",
          "shell.execute_reply": "2025-04-01T16:25:01.927115Z"
        },
        "colab": {
          "base_uri": "https://localhost:8080/"
        },
        "collapsed": true,
        "outputId": "de89ccf8-98f8-4f09-e223-017ab3969250"
      },
      "outputs": [
        {
          "output_type": "execute_result",
          "data": {
            "text/plain": [
              "torch.Size([28000])"
            ]
          },
          "metadata": {},
          "execution_count": 21
        }
      ],
      "execution_count": 21
    },
    {
      "cell_type": "code",
      "source": [
        "df = pd.DataFrame(pred)\n",
        "df.index = np.arange(1, len(df) + 1)\n",
        "path = ['/content/gdrive/My Drive/Colab Notebooks/Data/digit-recognizer/pred1.csv',\n",
        "        '/kaggle/working/pred1.csv']\n",
        "df.to_csv(path[0], index = True)"
      ],
      "metadata": {
        "id": "Dp5uSTO0ycNV",
        "trusted": true
      },
      "outputs": [],
      "execution_count": 22
    },
    {
      "cell_type": "code",
      "source": [
        "#Randomly seeing some photo and corresponding prediction\n",
        "\n",
        "import random\n",
        "\n",
        "fig, axes = plt.subplots(2, 5, figsize=(12, 6))\n",
        "axes = axes.flatten()\n",
        "\n",
        "random_indices = random.sample(range(len(data)), 10)\n",
        "\n",
        "for i, index in enumerate(random_indices):\n",
        "  image = data[index].squeeze().cpu().numpy()\n",
        "  predicted_label = pred[index].item()  # Access the predicted label\n",
        "\n",
        "  axes[i].imshow(image, cmap='gray')\n",
        "  axes[i].set_title(f\"Predicted: {predicted_label}\")\n",
        "  axes[i].axis('off')\n",
        "\n",
        "\n",
        "plt.tight_layout()\n",
        "plt.show()\n"
      ],
      "metadata": {
        "colab": {
          "base_uri": "https://localhost:8080/",
          "height": 492
        },
        "id": "PyZ7r_KmCRvZ",
        "outputId": "c3c2b77e-0a4c-4c4c-be6a-a010ef60cfba"
      },
      "execution_count": 23,
      "outputs": [
        {
          "output_type": "display_data",
          "data": {
            "text/plain": [
              "<Figure size 1200x600 with 10 Axes>"
            ],
            "image/png": "[encoded data removed]"
          },
          "metadata": {}
        }
      ]
    }
  ]
}