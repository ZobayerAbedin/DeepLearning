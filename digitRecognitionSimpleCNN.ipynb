{
  "nbformat": 4,
  "nbformat_minor": 0,
  "metadata": {
    "colab": {
      "provenance": [],
      "collapsed_sections": [
        "VA4jEjxhsrcY",
        "1Fy55unNPzjD",
        "14CXo0jbXlBO"
      ],
      "authorship_tag": "ABX9TyOWE0X/J3+W3RsAsE8tmMky",
      "include_colab_link": true
    },
    "kernelspec": {
      "name": "python3",
      "display_name": "Python 3"
    },
    "language_info": {
      "name": "python"
    }
  },
  "cells": [
    {
      "cell_type": "markdown",
      "metadata": {
        "id": "view-in-github",
        "colab_type": "text"
      },
      "source": [
        "<a href=\"https://colab.research.google.com/github/ZobayerAbedin/DeepLearning/blob/main/digitRecognitionSimpleCNN.ipynb\" target=\"_parent\"><img src=\"https://colab.research.google.com/assets/colab-badge.svg\" alt=\"Open In Colab\"/></a>"
      ]
    },
    {
      "cell_type": "code",
      "execution_count": 1,
      "metadata": {
        "colab": {
          "base_uri": "https://localhost:8080/"
        },
        "id": "Ku9jSxDwk2HH",
        "outputId": "02f6c061-5047-4f71-c8e0-9f9247a54d54"
      },
      "outputs": [
        {
          "output_type": "execute_result",
          "data": {
            "text/plain": [
              "device(type='cuda', index=0)"
            ]
          },
          "metadata": {},
          "execution_count": 1
        }
      ],
      "source": [
        "import numpy as np\n",
        "import pandas as pd\n",
        "\n",
        "import torch\n",
        "import torch.nn as nn\n",
        "import torch.nn.functional as F\n",
        "from torch.utils.data import DataLoader, TensorDataset\n",
        "from sklearn.model_selection import train_test_split\n",
        "\n",
        "import matplotlib.pyplot as plt\n",
        "import time\n",
        "from torchsummary import summary\n",
        "\n",
        "\n",
        "device = torch.device('cuda:0' if torch.cuda.is_available() else 'cpu')\n",
        "device"
      ]
    },
    {
      "cell_type": "markdown",
      "source": [
        "# Data Manipulation"
      ],
      "metadata": {
        "id": "2tRYhBrOlYrm"
      }
    },
    {
      "cell_type": "code",
      "source": [
        "from google.colab import drive\n",
        "drive.mount('/content/gdrive')"
      ],
      "metadata": {
        "colab": {
          "base_uri": "https://localhost:8080/"
        },
        "id": "-1-Pi4dzlkS5",
        "outputId": "6def6e3a-6710-4960-d570-8468202000ec"
      },
      "execution_count": 2,
      "outputs": [
        {
          "output_type": "stream",
          "name": "stdout",
          "text": [
            "Mounted at /content/gdrive\n"
          ]
        }
      ]
    },
    {
      "cell_type": "code",
      "source": [
        "df = pd.read_csv('/content/gdrive/My Drive/Colab Notebooks/Data/digit-recognizer/train.csv')\n",
        "data = df.to_numpy()\n",
        "\n",
        "labels = data[:, 0]\n",
        "data = data[:, 1:]\n",
        "\n",
        "dataNorm = data / np.max(data)\n",
        "dataNorm = dataNorm.reshape(dataNorm.shape[0], 1, 28, 28)\n",
        "imgSize = 28"
      ],
      "metadata": {
        "id": "f2ej5IXpmmcH"
      },
      "execution_count": 3,
      "outputs": []
    },
    {
      "cell_type": "code",
      "source": [],
      "metadata": {
        "id": "jT0YOQEe7nKw"
      },
      "execution_count": 3,
      "outputs": []
    },
    {
      "cell_type": "code",
      "source": [
        "## converting to tensor\n",
        "dataT = torch.tensor(dataNorm).float()\n",
        "labelsT = torch.tensor(labels).long()\n",
        "\n",
        "trainDataT, testDataT, trainLabelsT, testLabelsT = train_test_split(dataT, labelsT, test_size = 0.1, random_state = 37)\n",
        "\n",
        "## converting to tensor dataset\n",
        "trainData = TensorDataset(trainDataT, trainLabelsT)\n",
        "testData = TensorDataset(testDataT, testLabelsT)\n",
        "\n",
        "## convert to data loader\n",
        "batchSize = 16\n",
        "trainLoader = DataLoader(trainData, batch_size = batchSize, shuffle = True, drop_last = True)\n",
        "testLoader = DataLoader(testData, batch_size = len(testData), shuffle = True)\n"
      ],
      "metadata": {
        "id": "cQzvw0NCnzDk"
      },
      "execution_count": 4,
      "outputs": []
    },
    {
      "cell_type": "markdown",
      "source": [
        "# Model\n"
      ],
      "metadata": {
        "id": "VA4jEjxhsrcY"
      }
    },
    {
      "cell_type": "code",
      "source": [
        "def createCNNNet():\n",
        "  class CNNNet(nn.Module):\n",
        "    def __init__(self):\n",
        "      super().__init__()\n",
        "\n",
        "      ### Feature Maps\n",
        "      kernalSize = [3, 3]\n",
        "\n",
        "      self.conv1 = nn.Conv2d(1, 64, kernalSize, padding = 1)\n",
        "      self.batchNorm1 = nn.BatchNorm2d(64)\n",
        "      outSize = (imgSize + 2 * self.conv1.padding[0] - kernalSize[0] + 1) // 2\n",
        "\n",
        "      self.conv2 = nn.Conv2d(64, 64, kernalSize, padding = 1)\n",
        "      self.batchNorm2 = nn.BatchNorm2d(64)\n",
        "      outSize = (outSize + 2 * self.conv2.padding[0] - kernalSize[0] + 1) // 2\n",
        "\n",
        "      self.conv3 = nn.Conv2d(64, 128, kernalSize, padding = 1)\n",
        "      self.batchNorm3 = nn.BatchNorm2d(128)\n",
        "      outSize = (outSize + 2 * self.conv3.padding[0] - kernalSize[0] + 1) // 2\n",
        "\n",
        "      ### Linear Layers\n",
        "\n",
        "      self.fc1 = nn.Linear(outSize * outSize * self.conv3.out_channels, 256)\n",
        "      self.fc2 = nn.Linear(256, 128)\n",
        "      self.fc3 = nn.Linear(128, 10)\n",
        "\n",
        "\n",
        "\n",
        "    def forward(self, x):\n",
        "\n",
        "      ### Convulation Operations\n",
        "      x = F.max_pool2d(self.conv1(x), 2)\n",
        "      x = F.relu(self.batchNorm1(x))\n",
        "\n",
        "      x = F.max_pool2d(self.conv2(x), 2)\n",
        "      x = F.relu(self.batchNorm2(x))\n",
        "\n",
        "      x = F.max_pool2d(self.conv3(x), 2)\n",
        "      x = F.relu(self.batchNorm3(x))\n",
        "\n",
        "\n",
        "      ### Linear Layers\n",
        "      x = x.reshape(x.shape[0],-1)\n",
        "\n",
        "      x = F.leaky_relu(self.fc1(x))\n",
        "      x = F.dropout(x, p = 0.1, training = self.training)\n",
        "\n",
        "      x = F.leaky_relu(self.fc2(x))\n",
        "      x = F.dropout(x, p = 0.1, training = self.training)\n",
        "\n",
        "      x = self.fc3(x)\n",
        "\n",
        "      return x\n",
        "\n",
        "  net = CNNNet()\n",
        "\n",
        "  lossFun = nn.CrossEntropyLoss()\n",
        "\n",
        "  optimizer = torch.optim.Adam(net.parameters(), lr = 0.001)\n",
        "\n",
        "\n",
        "  return net, lossFun, optimizer\n",
        "\n"
      ],
      "metadata": {
        "id": "AUeldhmWsvSd"
      },
      "execution_count": 6,
      "outputs": []
    },
    {
      "cell_type": "code",
      "source": [
        "net, lossFun, optimizer = createCNNNet()\n",
        "net.to(device)\n",
        "summary(net, (1, 28, 28))"
      ],
      "metadata": {
        "colab": {
          "base_uri": "https://localhost:8080/"
        },
        "id": "LzE5c_GqHkTj",
        "outputId": "cb6ff8e2-61a8-4c03-e0c1-ea1ebc969ba3"
      },
      "execution_count": 7,
      "outputs": [
        {
          "output_type": "stream",
          "name": "stdout",
          "text": [
            "----------------------------------------------------------------\n",
            "        Layer (type)               Output Shape         Param #\n",
            "================================================================\n",
            "            Conv2d-1           [-1, 64, 28, 28]             640\n",
            "       BatchNorm2d-2           [-1, 64, 14, 14]             128\n",
            "            Conv2d-3           [-1, 64, 14, 14]          36,928\n",
            "       BatchNorm2d-4             [-1, 64, 7, 7]             128\n",
            "            Conv2d-5            [-1, 128, 7, 7]          73,856\n",
            "       BatchNorm2d-6            [-1, 128, 3, 3]             256\n",
            "            Linear-7                  [-1, 256]         295,168\n",
            "            Linear-8                  [-1, 128]          32,896\n",
            "            Linear-9                   [-1, 10]           1,290\n",
            "================================================================\n",
            "Total params: 441,290\n",
            "Trainable params: 441,290\n",
            "Non-trainable params: 0\n",
            "----------------------------------------------------------------\n",
            "Input size (MB): 0.00\n",
            "Forward/backward pass size (MB): 0.66\n",
            "Params size (MB): 1.68\n",
            "Estimated Total Size (MB): 2.34\n",
            "----------------------------------------------------------------\n"
          ]
        }
      ]
    },
    {
      "cell_type": "code",
      "source": [
        "data = trainLoader.dataset.tensors[0][0:16]\n",
        "labels = trainLoader.dataset.tensors[1]\n",
        "\n",
        "\n",
        "print(data.shape)\n",
        "# pred = net(data)"
      ],
      "metadata": {
        "colab": {
          "base_uri": "https://localhost:8080/"
        },
        "id": "RrVLjZAR8qqU",
        "outputId": "daa8a178-050a-40e3-e3c6-3e4a3396d58e"
      },
      "execution_count": 8,
      "outputs": [
        {
          "output_type": "stream",
          "name": "stdout",
          "text": [
            "torch.Size([16, 1, 28, 28])\n"
          ]
        }
      ]
    },
    {
      "cell_type": "markdown",
      "source": [
        "# Test\n"
      ],
      "metadata": {
        "id": "1Fy55unNPzjD"
      }
    },
    {
      "cell_type": "code",
      "source": [
        "def testNet(net, lossFun, optimizer, testLoader):\n",
        "  data = testLoader.dataset.tensors[0]\n",
        "  labels = testLoader.dataset.tensors[1]\n",
        "\n",
        "  if device != 'cpu':\n",
        "    data = data.to(device)\n",
        "    labels = labels.to(device)\n",
        "\n",
        "  with torch.no_grad():\n",
        "    pred = net(data)\n",
        "\n",
        "  if device != 'cpu':\n",
        "    labels = labels.cpu()\n",
        "    pred = pred.cpu()\n",
        "\n",
        "  matches = (torch.argmax(pred, axis = 1) == labels).float()\n",
        "  acc = 100 * torch.mean(matches)\n",
        "\n",
        "  return acc\n"
      ],
      "metadata": {
        "id": "XRo4unKRWon3"
      },
      "execution_count": 15,
      "outputs": []
    },
    {
      "cell_type": "markdown",
      "source": [
        "# Train"
      ],
      "metadata": {
        "id": "14CXo0jbXlBO"
      }
    },
    {
      "cell_type": "code",
      "source": [
        "def trainNet(net, lossFun, optimizer, trainLoader):\n",
        "  epochs = 30\n",
        "\n",
        "  timeStart = time.process_time()\n",
        "  timeNow = timeStart\n",
        "\n",
        "  trainAcc = []\n",
        "  trainLoss = []\n",
        "  testAcc = []\n",
        "\n",
        "  for epoch in range(epochs):\n",
        "\n",
        "    batchAcc = []\n",
        "    batchLoss = []\n",
        "\n",
        "    for data, labels in trainLoader:\n",
        "\n",
        "      if device != 'cpu':\n",
        "        data = data.to(device)\n",
        "        labels = labels.to(device)\n",
        "\n",
        "      ## Calculate forward pass and loss\n",
        "      pred = net(data)\n",
        "      loss = lossFun(pred, labels)\n",
        "\n",
        "      ## backpropagation\n",
        "      optimizer.zero_grad()\n",
        "      loss.backward()\n",
        "      optimizer.step()\n",
        "\n",
        "      ## accurecy and loss\n",
        "      pred = pred.cpu()\n",
        "      labels = labels.cpu()\n",
        "      matches = (torch.argmax(pred, axis = 1) == labels).float()\n",
        "      acc = 100 * torch.mean(matches)\n",
        "\n",
        "      batchAcc.append(acc)\n",
        "      batchLoss.append(loss.item())\n",
        "\n",
        "    trainAcc.append(np.mean(batchAcc))\n",
        "    trainLoss.append(np.mean(batchLoss))\n",
        "\n",
        "    testAcc.append(testNet(net, lossFun, optimizer, testLoader))\n",
        "\n",
        "    timeTaken = time.process_time() - timeNow\n",
        "    elapsedTime = time.process_time() - timeStart\n",
        "    timeNow = time.process_time()\n",
        "\n",
        "    print(f'Epoch {epoch+1}/{epochs}, time taken: {timeTaken:.2f}, Lelapsed time: {elapsedTime:.2f} sec, test accuracy {testAcc[-1]:.4f}%')\n",
        "\n",
        "  return trainAcc, testAcc, trainLoss\n"
      ],
      "metadata": {
        "id": "DqqAvR2pXoH5"
      },
      "execution_count": 31,
      "outputs": []
    },
    {
      "cell_type": "code",
      "source": [],
      "metadata": {
        "id": "FsfevxCquT0r"
      },
      "execution_count": 10,
      "outputs": []
    },
    {
      "cell_type": "markdown",
      "source": [
        "# main"
      ],
      "metadata": {
        "id": "S8xa79ocuZfA"
      }
    },
    {
      "cell_type": "code",
      "source": [
        "trainAcc, testAcc, trainLoss = trainNet(net, lossFun, optimizer, trainLoader)"
      ],
      "metadata": {
        "colab": {
          "base_uri": "https://localhost:8080/"
        },
        "id": "ymUhAKNwujnt",
        "outputId": "f6d90191-0905-4355-c17c-91c4809fa3f4"
      },
      "execution_count": 32,
      "outputs": [
        {
          "output_type": "stream",
          "name": "stdout",
          "text": [
            "Epoch 1/30, time taken: 8.97, Lelapsed time: 8.97 sec, test accuracy 99.0000%\n",
            "Epoch 2/30, time taken: 8.46, Lelapsed time: 17.43 sec, test accuracy 99.1190%\n",
            "Epoch 3/30, time taken: 8.92, Lelapsed time: 26.34 sec, test accuracy 98.8333%\n",
            "Epoch 4/30, time taken: 9.11, Lelapsed time: 35.45 sec, test accuracy 98.8571%\n",
            "Epoch 5/30, time taken: 8.52, Lelapsed time: 43.97 sec, test accuracy 98.8810%\n",
            "Epoch 6/30, time taken: 8.79, Lelapsed time: 52.76 sec, test accuracy 99.1190%\n",
            "Epoch 7/30, time taken: 8.95, Lelapsed time: 61.71 sec, test accuracy 98.9048%\n",
            "Epoch 8/30, time taken: 8.69, Lelapsed time: 70.41 sec, test accuracy 99.1190%\n",
            "Epoch 9/30, time taken: 8.50, Lelapsed time: 78.91 sec, test accuracy 99.0238%\n",
            "Epoch 10/30, time taken: 9.07, Lelapsed time: 87.97 sec, test accuracy 98.9524%\n",
            "Epoch 11/30, time taken: 9.01, Lelapsed time: 96.99 sec, test accuracy 99.0000%\n",
            "Epoch 12/30, time taken: 8.34, Lelapsed time: 105.32 sec, test accuracy 98.8810%\n",
            "Epoch 13/30, time taken: 9.27, Lelapsed time: 114.59 sec, test accuracy 99.0000%\n",
            "Epoch 14/30, time taken: 8.89, Lelapsed time: 123.48 sec, test accuracy 99.0000%\n",
            "Epoch 15/30, time taken: 8.49, Lelapsed time: 131.97 sec, test accuracy 98.9524%\n",
            "Epoch 16/30, time taken: 8.72, Lelapsed time: 140.69 sec, test accuracy 98.9286%\n",
            "Epoch 17/30, time taken: 8.89, Lelapsed time: 149.58 sec, test accuracy 98.9286%\n",
            "Epoch 18/30, time taken: 8.66, Lelapsed time: 158.24 sec, test accuracy 99.1190%\n",
            "Epoch 19/30, time taken: 8.63, Lelapsed time: 166.87 sec, test accuracy 99.1190%\n",
            "Epoch 20/30, time taken: 8.90, Lelapsed time: 175.77 sec, test accuracy 99.0238%\n",
            "Epoch 21/30, time taken: 8.92, Lelapsed time: 184.69 sec, test accuracy 99.1190%\n",
            "Epoch 22/30, time taken: 8.31, Lelapsed time: 192.99 sec, test accuracy 98.9524%\n",
            "Epoch 23/30, time taken: 8.91, Lelapsed time: 201.90 sec, test accuracy 99.1190%\n",
            "Epoch 24/30, time taken: 9.05, Lelapsed time: 210.96 sec, test accuracy 99.0238%\n",
            "Epoch 25/30, time taken: 8.41, Lelapsed time: 219.36 sec, test accuracy 98.8571%\n",
            "Epoch 26/30, time taken: 9.04, Lelapsed time: 228.40 sec, test accuracy 99.1429%\n",
            "Epoch 27/30, time taken: 8.93, Lelapsed time: 237.33 sec, test accuracy 99.1190%\n",
            "Epoch 28/30, time taken: 8.46, Lelapsed time: 245.79 sec, test accuracy 98.9286%\n",
            "Epoch 29/30, time taken: 8.86, Lelapsed time: 254.65 sec, test accuracy 98.8333%\n",
            "Epoch 30/30, time taken: 8.88, Lelapsed time: 263.53 sec, test accuracy 99.0000%\n"
          ]
        }
      ]
    },
    {
      "cell_type": "code",
      "source": [
        "fig, aa = plt.subplots(1, 2, figsize = (16, 5))\n",
        "\n",
        "aa[0].plot(trainLoss)\n",
        "aa[0].set_ylim(0, 100)\n",
        "\n",
        "aa[1].plot(trainAcc)\n",
        "aa[1].plot(testAcc)\n",
        "\n",
        "plt.show()"
      ],
      "metadata": {
        "colab": {
          "base_uri": "https://localhost:8080/",
          "height": 365
        },
        "id": "NlK5iZN6xA5Y",
        "outputId": "718c7286-000d-46a2-d1f7-5e2153ac9d29"
      },
      "execution_count": 33,
      "outputs": [
        {
          "output_type": "display_data",
          "data": {
            "text/plain": [
              "<Figure size 1600x500 with 2 Axes>"
            ],
            "image/png": "[encoded data removed]"
          },
          "metadata": {}
        }
      ]
    },
    {
      "cell_type": "code",
      "source": [
        "# torch.save(net.state_dict(), '/content/gdrive/My Drive/Colab Notebooks/Data/digit-recognizer/digitRecognizerSimpleCNN.pt')"
      ],
      "metadata": {
        "id": "twSrDfFpwwcV"
      },
      "execution_count": 35,
      "outputs": []
    },
    {
      "cell_type": "code",
      "source": [
        "df = df = pd.read_csv('/content/gdrive/My Drive/Colab Notebooks/Data/digit-recognizer/test.csv')\n",
        "data = df.to_numpy()\n",
        "data = data / np.max(data)\n",
        "data = data.reshape(data.shape[0], 1, 28, 28)\n",
        "data = torch.tensor(data).float()\n",
        "data = data.to(device)\n",
        "# pred0 = net(data)\n",
        "# pred = torch.argmax(pred0, axis = 1)\n",
        "print(data.shape)"
      ],
      "metadata": {
        "colab": {
          "base_uri": "https://localhost:8080/"
        },
        "id": "96l-vD5Ku11y",
        "outputId": "ab353906-d6af-48f8-9198-cb7a3fa7e49a"
      },
      "execution_count": 44,
      "outputs": [
        {
          "output_type": "stream",
          "name": "stdout",
          "text": [
            "torch.Size([28000, 1, 28, 28])\n"
          ]
        }
      ]
    },
    {
      "cell_type": "code",
      "source": [
        "df = pd.DataFrame(pred)\n",
        "df.index = np.arange(1, len(df) + 1)\n",
        "df.to_csv('/content/gdrive/My Drive/Colab Notebooks/Data/digit-recognizer/pred1.csv', index = True)"
      ],
      "metadata": {
        "id": "Dp5uSTO0ycNV"
      },
      "execution_count": null,
      "outputs": []
    },
    {
      "cell_type": "code",
      "source": [],
      "metadata": {
        "id": "KIVHAfAlv_pg"
      },
      "execution_count": null,
      "outputs": []
    }
  ]
}