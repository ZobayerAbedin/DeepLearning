{
  "cells": [
    {
      "cell_type": "markdown",
      "metadata": {
        "id": "view-in-github",
        "colab_type": "text"
      },
      "source": [
        "<a href=\"https://colab.research.google.com/github/ZobayerAbedin/DeepLearning/blob/main/digitRecognitionSimpleCNN.ipynb\" target=\"_parent\"><img src=\"https://colab.research.google.com/assets/colab-badge.svg\" alt=\"Open In Colab\"/></a>"
      ]
    },
    {
      "cell_type": "code",
      "execution_count": 1,
      "metadata": {
        "colab": {
          "base_uri": "https://localhost:8080/"
        },
        "id": "Ku9jSxDwk2HH",
        "outputId": "06df454d-864e-4693-f18a-770f54d8eb88"
      },
      "outputs": [
        {
          "output_type": "execute_result",
          "data": {
            "text/plain": [
              "device(type='cpu')"
            ]
          },
          "metadata": {},
          "execution_count": 1
        }
      ],
      "source": [
        "import numpy as np\n",
        "import pandas as pd\n",
        "\n",
        "import torch\n",
        "import torch.nn as nn\n",
        "import torch.nn.functional as F\n",
        "from torch.utils.data import DataLoader, TensorDataset\n",
        "from sklearn.model_selection import train_test_split\n",
        "\n",
        "import matplotlib.pyplot as plt\n",
        "import time\n",
        "from torchsummary import summary\n",
        "\n",
        "\n",
        "device = torch.device('cuda' if torch.cuda.is_available() else 'cpu')\n",
        "device"
      ]
    },
    {
      "cell_type": "markdown",
      "metadata": {
        "id": "2tRYhBrOlYrm"
      },
      "source": [
        "# Data Manipulation"
      ]
    },
    {
      "cell_type": "code",
      "execution_count": 2,
      "metadata": {
        "colab": {
          "base_uri": "https://localhost:8080/"
        },
        "id": "-1-Pi4dzlkS5",
        "outputId": "8a48b26a-18c1-42b5-f5af-1416443940ac"
      },
      "outputs": [
        {
          "output_type": "stream",
          "name": "stdout",
          "text": [
            "Drive already mounted at /content/gdrive; to attempt to forcibly remount, call drive.mount(\"/content/gdrive\", force_remount=True).\n"
          ]
        }
      ],
      "source": [
        "from google.colab import drive\n",
        "drive.mount('/content/gdrive')"
      ]
    },
    {
      "cell_type": "code",
      "execution_count": 3,
      "metadata": {
        "id": "f2ej5IXpmmcH"
      },
      "outputs": [],
      "source": [
        "df = pd.read_csv('/content/gdrive/My Drive/Colab Notebooks/Data/digit-recognizer/train.csv')\n",
        "data = df.to_numpy()\n",
        "\n",
        "labels = data[:, 0]\n",
        "data = data[:, 1:]\n",
        "\n",
        "dataNorm = data / np.max(data)\n",
        "dataNorm = dataNorm.reshape(dataNorm.shape[0], 1, 28, 28)\n",
        "imgSize = 28"
      ]
    },
    {
      "cell_type": "code",
      "execution_count": 3,
      "metadata": {
        "id": "jT0YOQEe7nKw"
      },
      "outputs": [],
      "source": []
    },
    {
      "cell_type": "code",
      "execution_count": 4,
      "metadata": {
        "id": "cQzvw0NCnzDk"
      },
      "outputs": [],
      "source": [
        "## converting to tensor\n",
        "dataT = torch.tensor(dataNorm).float()\n",
        "labelsT = torch.tensor(labels).long()\n",
        "\n",
        "trainDataT, testDataT, trainLabelsT, testLabelsT = train_test_split(dataT, labelsT, test_size = 0.1, random_state = 37)\n",
        "\n",
        "## converting to tensor dataset\n",
        "trainData = TensorDataset(trainDataT, trainLabelsT)\n",
        "testData = TensorDataset(testDataT, testLabelsT)\n",
        "\n",
        "## convert to data loader\n",
        "batchSize = 16\n",
        "trainLoader = DataLoader(trainData, batch_size = batchSize, shuffle = True, drop_last = True)\n",
        "testLoader = DataLoader(testData, batch_size = len(testData), shuffle = True)\n"
      ]
    },
    {
      "cell_type": "markdown",
      "metadata": {
        "id": "VA4jEjxhsrcY"
      },
      "source": [
        "# Model\n"
      ]
    },
    {
      "cell_type": "code",
      "execution_count": 5,
      "metadata": {
        "id": "AUeldhmWsvSd"
      },
      "outputs": [],
      "source": [
        "def createCNNNet():\n",
        "  class CNNNet(nn.Module):\n",
        "    def __init__(self):\n",
        "      super().__init__()\n",
        "\n",
        "      ### Feature Maps\n",
        "      kernalSize = [3, 3]\n",
        "\n",
        "      self.conv1 = nn.Conv2d(1, 64, kernalSize, padding = 1)\n",
        "      self.batchNorm1 = nn.BatchNorm2d(64)\n",
        "      outSize = (imgSize + 2 * self.conv1.padding[0] - kernalSize[0] + 1) // 2\n",
        "\n",
        "      self.conv2 = nn.Conv2d(64, 128, kernalSize, padding = 1)\n",
        "      self.batchNorm2 = nn.BatchNorm2d(128)\n",
        "      outSize = (outSize + 2 * self.conv2.padding[0] - kernalSize[0] + 1) // 2\n",
        "\n",
        "      self.conv3 = nn.Conv2d(128, 256, kernalSize, padding = 1)\n",
        "      self.batchNorm3 = nn.BatchNorm2d(256)\n",
        "      outSize = (outSize + 2 * self.conv3.padding[0] - kernalSize[0] + 1) // 2\n",
        "\n",
        "      self.conv4 = nn.Conv2d(256, 512, kernalSize, padding = 1)\n",
        "      self.batchNorm4 = nn.BatchNorm2d(512)\n",
        "      outSize = (outSize + 2 * self.conv4.padding[0] - kernalSize[0] + 1) // 2\n",
        "\n",
        "      ### Linear Layers\n",
        "\n",
        "      self.fc1 = nn.Linear(outSize * outSize * self.conv4.out_channels, 512)\n",
        "      self.fc2 = nn.Linear(512, 256)\n",
        "      self.fc3 = nn.Linear(256, 128)\n",
        "      self.fc4 = nn.Linear(128, 64)\n",
        "      self.fc5 = nn.Linear(64, 10)\n",
        "\n",
        "\n",
        "\n",
        "    def forward(self, x):\n",
        "\n",
        "      ### Convulation Operations\n",
        "      x = F.max_pool2d(self.conv1(x), 2)\n",
        "      x = F.relu(self.batchNorm1(x))\n",
        "\n",
        "      x = F.max_pool2d(self.conv2(x), 2)\n",
        "      x = F.relu(self.batchNorm2(x))\n",
        "\n",
        "      x = F.max_pool2d(self.conv3(x), 2)\n",
        "      x = F.relu(self.batchNorm3(x))\n",
        "\n",
        "      x = F.max_pool2d(self.conv4(x), 2)\n",
        "      x = F.relu(self.batchNorm4(x))\n",
        "\n",
        "\n",
        "      ### Linear Layers\n",
        "      x = x.reshape(x.shape[0],-1)\n",
        "\n",
        "      x = F.leaky_relu(self.fc1(x))\n",
        "      x = F.dropout(x, p = 0.1, training = self.training)\n",
        "\n",
        "      x = F.leaky_relu(self.fc2(x))\n",
        "      x = F.dropout(x, p = 0.1, training = self.training)\n",
        "\n",
        "      x = F.leaky_relu(self.fc3(x))\n",
        "      x = F.dropout(x, p = 0.1, training = self.training)\n",
        "\n",
        "      x = F.leaky_relu(self.fc4(x))\n",
        "      x = F.dropout(x, p = 0.1, training = self.training)\n",
        "\n",
        "\n",
        "      x = self.fc5(x)\n",
        "\n",
        "      return x\n",
        "\n",
        "  net = CNNNet()\n",
        "\n",
        "  lossFun = nn.CrossEntropyLoss()\n",
        "\n",
        "  optimizer = torch.optim.Adam(net.parameters(), lr = 0.001)\n",
        "\n",
        "\n",
        "  return net, lossFun, optimizer\n",
        "\n"
      ]
    },
    {
      "cell_type": "code",
      "execution_count": 6,
      "metadata": {
        "colab": {
          "base_uri": "https://localhost:8080/"
        },
        "id": "LzE5c_GqHkTj",
        "outputId": "36e1ed13-3b5e-435e-a355-e959fefaf984"
      },
      "outputs": [
        {
          "output_type": "stream",
          "name": "stdout",
          "text": [
            "----------------------------------------------------------------\n",
            "        Layer (type)               Output Shape         Param #\n",
            "================================================================\n",
            "            Conv2d-1           [-1, 64, 28, 28]             640\n",
            "       BatchNorm2d-2           [-1, 64, 14, 14]             128\n",
            "            Conv2d-3          [-1, 128, 14, 14]          73,856\n",
            "       BatchNorm2d-4            [-1, 128, 7, 7]             256\n",
            "            Conv2d-5            [-1, 256, 7, 7]         295,168\n",
            "       BatchNorm2d-6            [-1, 256, 3, 3]             512\n",
            "            Conv2d-7            [-1, 512, 3, 3]       1,180,160\n",
            "       BatchNorm2d-8            [-1, 512, 1, 1]           1,024\n",
            "            Linear-9                  [-1, 512]         262,656\n",
            "           Linear-10                  [-1, 256]         131,328\n",
            "           Linear-11                  [-1, 128]          32,896\n",
            "           Linear-12                   [-1, 64]           8,256\n",
            "           Linear-13                   [-1, 10]             650\n",
            "================================================================\n",
            "Total params: 1,987,530\n",
            "Trainable params: 1,987,530\n",
            "Non-trainable params: 0\n",
            "----------------------------------------------------------------\n",
            "Input size (MB): 0.00\n",
            "Forward/backward pass size (MB): 0.88\n",
            "Params size (MB): 7.58\n",
            "Estimated Total Size (MB): 8.46\n",
            "----------------------------------------------------------------\n"
          ]
        }
      ],
      "source": [
        "net, lossFun, optimizer = createCNNNet()\n",
        "net.to(device)\n",
        "summary(net, (1, 28, 28))"
      ]
    },
    {
      "cell_type": "code",
      "execution_count": 7,
      "metadata": {
        "colab": {
          "base_uri": "https://localhost:8080/"
        },
        "id": "RrVLjZAR8qqU",
        "outputId": "3edaeac8-e15c-4a21-bd55-0d1b5fc5114a"
      },
      "outputs": [
        {
          "output_type": "stream",
          "name": "stdout",
          "text": [
            "torch.Size([16, 1, 28, 28])\n"
          ]
        }
      ],
      "source": [
        "data = trainLoader.dataset.tensors[0][0:16]\n",
        "labels = trainLoader.dataset.tensors[1]\n",
        "\n",
        "\n",
        "print(data.shape)\n",
        "# pred = net(data)"
      ]
    },
    {
      "cell_type": "markdown",
      "metadata": {
        "id": "1Fy55unNPzjD"
      },
      "source": [
        "# Test\n"
      ]
    },
    {
      "cell_type": "code",
      "execution_count": 8,
      "metadata": {
        "id": "XRo4unKRWon3"
      },
      "outputs": [],
      "source": [
        "def testNet(net, lossFun, optimizer, testLoader):\n",
        "  data = testLoader.dataset.tensors[0]\n",
        "  labels = testLoader.dataset.tensors[1]\n",
        "\n",
        "  if device != 'cpu':\n",
        "    data = data.to(device)\n",
        "    labels = labels.to(device)\n",
        "\n",
        "  with torch.no_grad():\n",
        "    pred = net(data)\n",
        "\n",
        "  if device != 'cpu':\n",
        "    labels = labels.cpu()\n",
        "    pred = pred.cpu()\n",
        "\n",
        "  matches = (torch.argmax(pred, axis = 1) == labels).float()\n",
        "  acc = 100 * torch.mean(matches)\n",
        "\n",
        "  return acc\n"
      ]
    },
    {
      "cell_type": "markdown",
      "metadata": {
        "id": "14CXo0jbXlBO"
      },
      "source": [
        "# Train"
      ]
    },
    {
      "cell_type": "code",
      "execution_count": 9,
      "metadata": {
        "id": "DqqAvR2pXoH5"
      },
      "outputs": [],
      "source": [
        "def trainNet(net, lossFun, optimizer, trainLoader):\n",
        "  epochs = 30\n",
        "\n",
        "  timeStart = time.process_time()\n",
        "  timeNow = timeStart\n",
        "\n",
        "  trainAcc = []\n",
        "  trainLoss = []\n",
        "  testAcc = []\n",
        "\n",
        "  for epoch in range(epochs):\n",
        "\n",
        "    batchAcc = []\n",
        "    batchLoss = []\n",
        "\n",
        "    for data, labels in trainLoader:\n",
        "\n",
        "      if device != 'cpu':\n",
        "        data = data.to(device)\n",
        "        labels = labels.to(device)\n",
        "\n",
        "      ## Calculate forward pass and loss\n",
        "      pred = net(data)\n",
        "      loss = lossFun(pred, labels)\n",
        "\n",
        "      ## backpropagation\n",
        "      optimizer.zero_grad()\n",
        "      loss.backward()\n",
        "      optimizer.step()\n",
        "\n",
        "      ## accurecy and loss\n",
        "      pred = pred.cpu()\n",
        "      labels = labels.cpu()\n",
        "      matches = (torch.argmax(pred, axis = 1) == labels).float()\n",
        "      acc = 100 * torch.mean(matches)\n",
        "\n",
        "      batchAcc.append(acc)\n",
        "      batchLoss.append(loss.item())\n",
        "\n",
        "    trainAcc.append(np.mean(batchAcc))\n",
        "    trainLoss.append(np.mean(batchLoss))\n",
        "\n",
        "    testAcc.append(testNet(net, lossFun, optimizer, testLoader))\n",
        "\n",
        "    timeTaken = time.process_time() - timeNow\n",
        "    elapsedTime = time.process_time() - timeStart\n",
        "    timeNow = time.process_time()\n",
        "\n",
        "    print(f'Epoch {epoch+1}/{epochs}, time taken: {timeTaken:.2f}, Lelapsed time: {elapsedTime:.2f} sec, test accuracy {testAcc[-1]:.4f}%')\n",
        "\n",
        "  return trainAcc, testAcc, trainLoss\n"
      ]
    },
    {
      "cell_type": "code",
      "execution_count": 9,
      "metadata": {
        "id": "FsfevxCquT0r"
      },
      "outputs": [],
      "source": []
    },
    {
      "cell_type": "markdown",
      "metadata": {
        "id": "S8xa79ocuZfA"
      },
      "source": [
        "# main"
      ]
    },
    {
      "cell_type": "code",
      "execution_count": 10,
      "metadata": {
        "id": "ymUhAKNwujnt"
      },
      "outputs": [],
      "source": [
        "# trainAcc, testAcc, trainLoss = trainNet(net, lossFun, optimizer, trainLoader)"
      ]
    },
    {
      "cell_type": "code",
      "execution_count": 11,
      "metadata": {
        "id": "NlK5iZN6xA5Y"
      },
      "outputs": [],
      "source": [
        "# fig, aa = plt.subplots(1, 2, figsize = (16, 5))\n",
        "\n",
        "# aa[0].plot(trainLoss)\n",
        "# aa[0].set_ylim(0, 100)\n",
        "\n",
        "# aa[1].plot(trainAcc)\n",
        "# aa[1].plot(testAcc)\n",
        "\n",
        "# plt.show()"
      ]
    },
    {
      "cell_type": "code",
      "execution_count": 12,
      "metadata": {
        "id": "twSrDfFpwwcV"
      },
      "outputs": [],
      "source": [
        "# torch.save(net.state_dict(), '/content/gdrive/My Drive/Colab Notebooks/Data/digit-recognizer/digitRecognizerSimpleCNN.pt')"
      ]
    },
    {
      "cell_type": "code",
      "source": [
        "net = createCNNNet()[0]\n",
        "net.load_state_dict(torch.load('/content/gdrive/My Drive/Colab Notebooks/Data/digit-recognizer/digitRecognizerSimpleCNN.pt', map_location=torch.device(device)))\n"
      ],
      "metadata": {
        "colab": {
          "base_uri": "https://localhost:8080/"
        },
        "id": "WDoFFXUZXo3U",
        "outputId": "43e22aef-12f9-41be-ac2a-e1cb2e5d68a4"
      },
      "execution_count": 13,
      "outputs": [
        {
          "output_type": "execute_result",
          "data": {
            "text/plain": [
              "<All keys matched successfully>"
            ]
          },
          "metadata": {},
          "execution_count": 13
        }
      ]
    },
    {
      "cell_type": "code",
      "source": [
        "acc = testNet(net, lossFun, optimizer, testLoader)\n",
        "print(f'test accuracy {acc:.4f}%')"
      ],
      "metadata": {
        "colab": {
          "base_uri": "https://localhost:8080/"
        },
        "id": "xPxM6UWiakHB",
        "outputId": "37fbc06c-bfd2-4549-9eda-adbd04538fa8"
      },
      "execution_count": 14,
      "outputs": [
        {
          "output_type": "stream",
          "name": "stdout",
          "text": [
            "test accuracy 99.0714%\n"
          ]
        }
      ]
    },
    {
      "cell_type": "code",
      "execution_count": 15,
      "metadata": {
        "id": "96l-vD5Ku11y"
      },
      "outputs": [],
      "source": [
        "df = df = pd.read_csv('/content/gdrive/My Drive/Colab Notebooks/Data/digit-recognizer/test.csv')\n",
        "data = df.to_numpy()\n",
        "data = data / np.max(data)\n",
        "data = data.reshape(data.shape[0], 1, 28, 28)\n",
        "data = torch.tensor(data).float()"
      ]
    },
    {
      "cell_type": "code",
      "source": [
        "testLoader1 = DataLoader(data, batch_size = 128, shuffle = True)\n",
        "\n",
        "pred = []\n",
        "for x in testLoader1:\n",
        "  x = x.to(device)\n",
        "  pred.append(net(x).cpu())\n"
      ],
      "metadata": {
        "id": "h8LBSa9-VxPr"
      },
      "execution_count": null,
      "outputs": []
    },
    {
      "cell_type": "code",
      "source": [
        "print(testLoader1.dataset.shape)"
      ],
      "metadata": {
        "id": "iikK32ecfg2d"
      },
      "execution_count": null,
      "outputs": []
    },
    {
      "cell_type": "code",
      "source": [
        "pred1 = pred"
      ],
      "metadata": {
        "id": "cnlq1FEMaxed"
      },
      "execution_count": null,
      "outputs": []
    },
    {
      "cell_type": "code",
      "source": [
        "pred = pred1\n",
        "# pred = [torch.argmax(t, axis = 0) for t in pred]\n",
        "# pred = pred.numpy()\n",
        "pred"
      ],
      "metadata": {
        "id": "G-gpkSO_a4IA"
      },
      "execution_count": null,
      "outputs": []
    },
    {
      "cell_type": "code",
      "source": [],
      "metadata": {
        "id": "_5OUypUJe7ig"
      },
      "execution_count": null,
      "outputs": []
    },
    {
      "cell_type": "code",
      "execution_count": null,
      "metadata": {
        "id": "Dp5uSTO0ycNV"
      },
      "outputs": [],
      "source": [
        "df = pd.DataFrame(pred)\n",
        "df.index = np.arange(1, len(df) + 1)\n",
        "df.to_csv('/content/gdrive/My Drive/Colab Notebooks/Data/digit-recognizer/pred1.csv', index = True)"
      ]
    },
    {
      "cell_type": "code",
      "execution_count": null,
      "metadata": {
        "id": "KIVHAfAlv_pg"
      },
      "outputs": [],
      "source": [
        "### randmonly visualize some data and their prediction\n",
        "fig, aa = plt.subplots(4, 4, figsize = (10, 10))\n",
        "\n",
        "for i in range(4):\n",
        "  for j in range(4):\n",
        "    idx = np.random\n",
        "\n",
        "    aa[i, j] =\n",
        "    aa.axis('off')\n",
        "\n"
      ]
    }
  ],
  "metadata": {
    "colab": {
      "provenance": [],
      "collapsed_sections": [
        "VA4jEjxhsrcY",
        "1Fy55unNPzjD",
        "14CXo0jbXlBO"
      ],
      "authorship_tag": "ABX9TyNuHe3sAOPnHyz8vu6lOYuN",
      "include_colab_link": true
    },
    "kernelspec": {
      "display_name": "Python 3",
      "name": "python3"
    },
    "language_info": {
      "name": "python"
    }
  },
  "nbformat": 4,
  "nbformat_minor": 0
}